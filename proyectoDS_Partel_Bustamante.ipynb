{
 "cells": [
  {
   "cell_type": "markdown",
   "id": "ee711c01-7422-4cc9-b5b5-35fb2c823184",
   "metadata": {},
   "source": [
    "# PRIMERA ENTREGA DATA SCIENCE I"
   ]
  },
  {
   "cell_type": "markdown",
   "id": "dda6f6ab-7e96-4deb-8823-2f9345673e3f",
   "metadata": {
    "editable": true,
    "slideshow": {
     "slide_type": ""
    },
    "tags": []
   },
   "source": [
    "#### Introducción"
   ]
  },
  {
   "cell_type": "markdown",
   "id": "a75736cf-6879-4a4e-97a2-670adcb8c55e",
   "metadata": {},
   "source": [
    "##### Se optó por el DATASET de películas de IMDB. Las razones son variadas, pero la primera y principal es que hay información muy interesante en este DATASET ya que refleja los géneros predominantes a lo largo de décadas; un viaje en el tiempo. Y segundo, se adapta a los lineamientos/ requerimientos del TP."
   ]
  },
  {
   "cell_type": "markdown",
   "id": "2d3c68c2-9d42-4868-acd1-c78cccc9e762",
   "metadata": {},
   "source": [
    "##### Fuente del DATASET: TBD"
   ]
  },
  {
   "cell_type": "markdown",
   "id": "c1d9712b-0ef2-4758-95f4-227cc3903950",
   "metadata": {},
   "source": [
    "##### Algunas series que incluye este DATASET son: release-date, budget, popularity, genres, vote_count, runtime, revenue"
   ]
  },
  {
   "cell_type": "code",
   "execution_count": 1,
   "id": "1182e174-5d67-4283-9ca8-e1499c6fd728",
   "metadata": {},
   "outputs": [],
   "source": [
    "import pandas as pd\n",
    "import numpy as np\n",
    "import matplotlib.pyplot as plt\n",
    "import seaborn as sns\n",
    "import plotly.express as px\n",
    "from bokeh.models import ColumnDataSource, FactorRange\n",
    "from bokeh.plotting import figure, show\n",
    "from bokeh.io import output_notebook\n",
    "from bokeh.transform import cumsum\n",
    "from bokeh.models import ColumnDataSource\n",
    "from bokeh.palettes import Category20\n",
    "from bokeh.models.glyphs import Wedge"
   ]
  },
  {
   "cell_type": "code",
   "execution_count": 2,
   "id": "739e7ca0-7aba-4646-92cb-1f414cb031be",
   "metadata": {},
   "outputs": [
    {
     "data": {
      "text/html": [
       "<div>\n",
       "<style scoped>\n",
       "    .dataframe tbody tr th:only-of-type {\n",
       "        vertical-align: middle;\n",
       "    }\n",
       "\n",
       "    .dataframe tbody tr th {\n",
       "        vertical-align: top;\n",
       "    }\n",
       "\n",
       "    .dataframe thead th {\n",
       "        text-align: right;\n",
       "    }\n",
       "</style>\n",
       "<table border=\"1\" class=\"dataframe\">\n",
       "  <thead>\n",
       "    <tr style=\"text-align: right;\">\n",
       "      <th></th>\n",
       "      <th>0</th>\n",
       "      <th>1</th>\n",
       "      <th>2</th>\n",
       "      <th>3</th>\n",
       "      <th>4</th>\n",
       "    </tr>\n",
       "  </thead>\n",
       "  <tbody>\n",
       "    <tr>\n",
       "      <th>id</th>\n",
       "      <td>27205</td>\n",
       "      <td>157336</td>\n",
       "      <td>155</td>\n",
       "      <td>19995</td>\n",
       "      <td>24428</td>\n",
       "    </tr>\n",
       "    <tr>\n",
       "      <th>title</th>\n",
       "      <td>Inception</td>\n",
       "      <td>Interstellar</td>\n",
       "      <td>The Dark Knight</td>\n",
       "      <td>Avatar</td>\n",
       "      <td>The Avengers</td>\n",
       "    </tr>\n",
       "    <tr>\n",
       "      <th>vote_average</th>\n",
       "      <td>8.364</td>\n",
       "      <td>8.417</td>\n",
       "      <td>8.512</td>\n",
       "      <td>7.573</td>\n",
       "      <td>7.71</td>\n",
       "    </tr>\n",
       "    <tr>\n",
       "      <th>vote_count</th>\n",
       "      <td>34495</td>\n",
       "      <td>32571</td>\n",
       "      <td>30619</td>\n",
       "      <td>29815</td>\n",
       "      <td>29166</td>\n",
       "    </tr>\n",
       "    <tr>\n",
       "      <th>status</th>\n",
       "      <td>Released</td>\n",
       "      <td>Released</td>\n",
       "      <td>Released</td>\n",
       "      <td>Released</td>\n",
       "      <td>Released</td>\n",
       "    </tr>\n",
       "    <tr>\n",
       "      <th>release_date</th>\n",
       "      <td>7/15/2010</td>\n",
       "      <td>11/5/2014</td>\n",
       "      <td>7/16/2008</td>\n",
       "      <td>12/15/2009</td>\n",
       "      <td>4/25/2012</td>\n",
       "    </tr>\n",
       "    <tr>\n",
       "      <th>revenue</th>\n",
       "      <td>825532764</td>\n",
       "      <td>701729206</td>\n",
       "      <td>1004558444</td>\n",
       "      <td>2923706026</td>\n",
       "      <td>1518815515</td>\n",
       "    </tr>\n",
       "    <tr>\n",
       "      <th>runtime</th>\n",
       "      <td>148</td>\n",
       "      <td>169</td>\n",
       "      <td>152</td>\n",
       "      <td>162</td>\n",
       "      <td>143</td>\n",
       "    </tr>\n",
       "    <tr>\n",
       "      <th>adult</th>\n",
       "      <td>False</td>\n",
       "      <td>False</td>\n",
       "      <td>False</td>\n",
       "      <td>False</td>\n",
       "      <td>False</td>\n",
       "    </tr>\n",
       "    <tr>\n",
       "      <th>budget</th>\n",
       "      <td>160000000</td>\n",
       "      <td>165000000</td>\n",
       "      <td>185000000</td>\n",
       "      <td>237000000</td>\n",
       "      <td>220000000</td>\n",
       "    </tr>\n",
       "    <tr>\n",
       "      <th>imdb_id</th>\n",
       "      <td>tt1375666</td>\n",
       "      <td>tt0816692</td>\n",
       "      <td>tt0468569</td>\n",
       "      <td>tt0499549</td>\n",
       "      <td>tt0848228</td>\n",
       "    </tr>\n",
       "    <tr>\n",
       "      <th>original_language</th>\n",
       "      <td>en</td>\n",
       "      <td>en</td>\n",
       "      <td>en</td>\n",
       "      <td>en</td>\n",
       "      <td>en</td>\n",
       "    </tr>\n",
       "    <tr>\n",
       "      <th>original_title</th>\n",
       "      <td>Inception</td>\n",
       "      <td>Interstellar</td>\n",
       "      <td>The Dark Knight</td>\n",
       "      <td>Avatar</td>\n",
       "      <td>The Avengers</td>\n",
       "    </tr>\n",
       "    <tr>\n",
       "      <th>overview</th>\n",
       "      <td>Cobb, a skilled thief who commits corporate es...</td>\n",
       "      <td>The adventures of a group of explorers who mak...</td>\n",
       "      <td>Batman raises the stakes in his war on crime. ...</td>\n",
       "      <td>In the 22nd century, a paraplegic Marine is di...</td>\n",
       "      <td>When an unexpected enemy emerges and threatens...</td>\n",
       "    </tr>\n",
       "    <tr>\n",
       "      <th>popularity</th>\n",
       "      <td>83.952</td>\n",
       "      <td>140.241</td>\n",
       "      <td>130.643</td>\n",
       "      <td>79.932</td>\n",
       "      <td>98.082</td>\n",
       "    </tr>\n",
       "    <tr>\n",
       "      <th>tagline</th>\n",
       "      <td>Your mind is the scene of the crime.</td>\n",
       "      <td>Mankind was born on Earth. It was never meant ...</td>\n",
       "      <td>Welcome to a world without rules.</td>\n",
       "      <td>Enter the world of Pandora.</td>\n",
       "      <td>Some assembly required.</td>\n",
       "    </tr>\n",
       "    <tr>\n",
       "      <th>genres</th>\n",
       "      <td>Action, Science Fiction, Adventure</td>\n",
       "      <td>Adventure, Drama, Science Fiction</td>\n",
       "      <td>Drama, Action, Crime, Thriller</td>\n",
       "      <td>Action, Adventure, Fantasy, Science Fiction</td>\n",
       "      <td>Science Fiction, Action, Adventure</td>\n",
       "    </tr>\n",
       "    <tr>\n",
       "      <th>production_companies</th>\n",
       "      <td>Legendary Pictures, Syncopy, Warner Bros. Pict...</td>\n",
       "      <td>Legendary Pictures, Syncopy, Lynda Obst Produc...</td>\n",
       "      <td>DC Comics, Legendary Pictures, Syncopy, Isobel...</td>\n",
       "      <td>Dune Entertainment, Lightstorm Entertainment, ...</td>\n",
       "      <td>Marvel Studios</td>\n",
       "    </tr>\n",
       "    <tr>\n",
       "      <th>production_countries</th>\n",
       "      <td>United Kingdom, United States of America</td>\n",
       "      <td>United Kingdom, United States of America</td>\n",
       "      <td>United Kingdom, United States of America</td>\n",
       "      <td>United States of America, United Kingdom</td>\n",
       "      <td>United States of America</td>\n",
       "    </tr>\n",
       "    <tr>\n",
       "      <th>spoken_languages</th>\n",
       "      <td>English, French, Japanese, Swahili</td>\n",
       "      <td>English</td>\n",
       "      <td>English, Mandarin</td>\n",
       "      <td>English, Spanish</td>\n",
       "      <td>English, Hindi, Russian</td>\n",
       "    </tr>\n",
       "    <tr>\n",
       "      <th>keywords</th>\n",
       "      <td>rescue, mission, dream, airplane, paris, franc...</td>\n",
       "      <td>rescue, future, spacecraft, race against time,...</td>\n",
       "      <td>joker, sadism, chaos, secret identity, crime f...</td>\n",
       "      <td>future, society, culture clash, space travel, ...</td>\n",
       "      <td>new york city, superhero, shield, based on com...</td>\n",
       "    </tr>\n",
       "  </tbody>\n",
       "</table>\n",
       "</div>"
      ],
      "text/plain": [
       "                                                                      0  \\\n",
       "id                                                                27205   \n",
       "title                                                         Inception   \n",
       "vote_average                                                      8.364   \n",
       "vote_count                                                        34495   \n",
       "status                                                         Released   \n",
       "release_date                                                  7/15/2010   \n",
       "revenue                                                       825532764   \n",
       "runtime                                                             148   \n",
       "adult                                                             False   \n",
       "budget                                                        160000000   \n",
       "imdb_id                                                       tt1375666   \n",
       "original_language                                                    en   \n",
       "original_title                                                Inception   \n",
       "overview              Cobb, a skilled thief who commits corporate es...   \n",
       "popularity                                                       83.952   \n",
       "tagline                            Your mind is the scene of the crime.   \n",
       "genres                               Action, Science Fiction, Adventure   \n",
       "production_companies  Legendary Pictures, Syncopy, Warner Bros. Pict...   \n",
       "production_countries           United Kingdom, United States of America   \n",
       "spoken_languages                     English, French, Japanese, Swahili   \n",
       "keywords              rescue, mission, dream, airplane, paris, franc...   \n",
       "\n",
       "                                                                      1  \\\n",
       "id                                                               157336   \n",
       "title                                                      Interstellar   \n",
       "vote_average                                                      8.417   \n",
       "vote_count                                                        32571   \n",
       "status                                                         Released   \n",
       "release_date                                                  11/5/2014   \n",
       "revenue                                                       701729206   \n",
       "runtime                                                             169   \n",
       "adult                                                             False   \n",
       "budget                                                        165000000   \n",
       "imdb_id                                                       tt0816692   \n",
       "original_language                                                    en   \n",
       "original_title                                             Interstellar   \n",
       "overview              The adventures of a group of explorers who mak...   \n",
       "popularity                                                      140.241   \n",
       "tagline               Mankind was born on Earth. It was never meant ...   \n",
       "genres                                Adventure, Drama, Science Fiction   \n",
       "production_companies  Legendary Pictures, Syncopy, Lynda Obst Produc...   \n",
       "production_countries           United Kingdom, United States of America   \n",
       "spoken_languages                                                English   \n",
       "keywords              rescue, future, spacecraft, race against time,...   \n",
       "\n",
       "                                                                      2  \\\n",
       "id                                                                  155   \n",
       "title                                                   The Dark Knight   \n",
       "vote_average                                                      8.512   \n",
       "vote_count                                                        30619   \n",
       "status                                                         Released   \n",
       "release_date                                                  7/16/2008   \n",
       "revenue                                                      1004558444   \n",
       "runtime                                                             152   \n",
       "adult                                                             False   \n",
       "budget                                                        185000000   \n",
       "imdb_id                                                       tt0468569   \n",
       "original_language                                                    en   \n",
       "original_title                                          The Dark Knight   \n",
       "overview              Batman raises the stakes in his war on crime. ...   \n",
       "popularity                                                      130.643   \n",
       "tagline                               Welcome to a world without rules.   \n",
       "genres                                   Drama, Action, Crime, Thriller   \n",
       "production_companies  DC Comics, Legendary Pictures, Syncopy, Isobel...   \n",
       "production_countries           United Kingdom, United States of America   \n",
       "spoken_languages                                      English, Mandarin   \n",
       "keywords              joker, sadism, chaos, secret identity, crime f...   \n",
       "\n",
       "                                                                      3  \\\n",
       "id                                                                19995   \n",
       "title                                                            Avatar   \n",
       "vote_average                                                      7.573   \n",
       "vote_count                                                        29815   \n",
       "status                                                         Released   \n",
       "release_date                                                 12/15/2009   \n",
       "revenue                                                      2923706026   \n",
       "runtime                                                             162   \n",
       "adult                                                             False   \n",
       "budget                                                        237000000   \n",
       "imdb_id                                                       tt0499549   \n",
       "original_language                                                    en   \n",
       "original_title                                                   Avatar   \n",
       "overview              In the 22nd century, a paraplegic Marine is di...   \n",
       "popularity                                                       79.932   \n",
       "tagline                                     Enter the world of Pandora.   \n",
       "genres                      Action, Adventure, Fantasy, Science Fiction   \n",
       "production_companies  Dune Entertainment, Lightstorm Entertainment, ...   \n",
       "production_countries           United States of America, United Kingdom   \n",
       "spoken_languages                                       English, Spanish   \n",
       "keywords              future, society, culture clash, space travel, ...   \n",
       "\n",
       "                                                                      4  \n",
       "id                                                                24428  \n",
       "title                                                      The Avengers  \n",
       "vote_average                                                       7.71  \n",
       "vote_count                                                        29166  \n",
       "status                                                         Released  \n",
       "release_date                                                  4/25/2012  \n",
       "revenue                                                      1518815515  \n",
       "runtime                                                             143  \n",
       "adult                                                             False  \n",
       "budget                                                        220000000  \n",
       "imdb_id                                                       tt0848228  \n",
       "original_language                                                    en  \n",
       "original_title                                             The Avengers  \n",
       "overview              When an unexpected enemy emerges and threatens...  \n",
       "popularity                                                       98.082  \n",
       "tagline                                         Some assembly required.  \n",
       "genres                               Science Fiction, Action, Adventure  \n",
       "production_companies                                     Marvel Studios  \n",
       "production_countries                           United States of America  \n",
       "spoken_languages                                English, Hindi, Russian  \n",
       "keywords              new york city, superhero, shield, based on com...  "
      ]
     },
     "execution_count": 2,
     "metadata": {},
     "output_type": "execute_result"
    }
   ],
   "source": [
    "# cargamos el dataset remoto\n",
    "# Aproximación de cómo están compuestos los datos\n",
    "\n",
    "url = \"https://drive.matanga.com.ar/api/public/dl/09H6hg16/imdb_dataset.csv\"\n",
    "\n",
    "df = pd.read_csv(url, sep=\",\")\n",
    "df.head().T"
   ]
  },
  {
   "cell_type": "markdown",
   "id": "2ac1ec15-0cd1-4701-ba06-688b228af8e0",
   "metadata": {},
   "source": [
    "#### Descripción del DATASET, serie a serie"
   ]
  },
  {
   "cell_type": "markdown",
   "id": "5ab27118-dd5a-49fd-82de-ee0d4d051c56",
   "metadata": {},
   "source": [
    "##### - id: identificador único - key\n",
    "##### - title: titulo de la película\n",
    "##### - vote_average: promedio del total de votos\n",
    "##### - vote_count: contador de votos\n",
    "##### - status: estado actual de la película\n",
    "##### - release_date: fecha de lanzamiento\n",
    "##### - revenue: ganancias obtenidas\n",
    "##### - runtime: tiempo total de reproducción\n",
    "##### - adult: si pertenece a la categoría de adultos\n",
    "##### - budget: presupuesto que se gastó en la película\n",
    "##### - imdb_id: identificador interno de IMDB\n",
    "##### - original_language: lengua nativa de la película\n",
    "##### - original_title: título original\n",
    "##### - overview: trama superficial de la película\n",
    "##### - popularity: popularidad\n",
    "##### - tagline: etiquetas que representan a la película\n",
    "##### - genres: géneros a los que pertenece la película\n",
    "##### - production_companies: compañías que produjeron la película\n",
    "##### - production_countries: países que participaron de la realización de la película\n",
    "##### - spoken_languages: lenguas a las que la película fue doblada\n",
    "##### - keywords: palabras clave que representan a la película"
   ]
  },
  {
   "cell_type": "markdown",
   "id": "04acc425-402e-4ed2-91c4-c7b9159c446a",
   "metadata": {},
   "source": [
    "#### Audiencia/ Público al que está dirigido este NOTEBOOK"
   ]
  },
  {
   "cell_type": "markdown",
   "id": "14167765-a7c1-47da-bd07-8728d65c0073",
   "metadata": {},
   "source": [
    "##### Público general"
   ]
  },
  {
   "cell_type": "code",
   "execution_count": 3,
   "id": "beecea9d-5bf7-46a2-8910-7477f891d67c",
   "metadata": {},
   "outputs": [
    {
     "data": {
      "text/plain": [
       "Index(['id', 'title', 'vote_average', 'vote_count', 'status', 'release_date',\n",
       "       'revenue', 'runtime', 'adult', 'budget', 'imdb_id', 'original_language',\n",
       "       'original_title', 'overview', 'popularity', 'tagline', 'genres',\n",
       "       'production_companies', 'production_countries', 'spoken_languages',\n",
       "       'keywords'],\n",
       "      dtype='object')"
      ]
     },
     "execution_count": 3,
     "metadata": {},
     "output_type": "execute_result"
    }
   ],
   "source": [
    "# mostramos las columnas\n",
    "\n",
    "df.columns"
   ]
  },
  {
   "cell_type": "code",
   "execution_count": 4,
   "id": "16a110df-6ea9-4707-9eae-c78858c322ca",
   "metadata": {},
   "outputs": [
    {
     "data": {
      "text/plain": [
       "21"
      ]
     },
     "execution_count": 4,
     "metadata": {},
     "output_type": "execute_result"
    }
   ],
   "source": [
    "# mostramos la cantidad de series\n",
    "\n",
    "len(df.columns)"
   ]
  },
  {
   "cell_type": "code",
   "execution_count": 71,
   "id": "5c9c5a84-7b5b-4d5f-8f19-fcfbcbbf1897",
   "metadata": {},
   "outputs": [
    {
     "data": {
      "text/html": [
       "<div>\n",
       "<style scoped>\n",
       "    .dataframe tbody tr th:only-of-type {\n",
       "        vertical-align: middle;\n",
       "    }\n",
       "\n",
       "    .dataframe tbody tr th {\n",
       "        vertical-align: top;\n",
       "    }\n",
       "\n",
       "    .dataframe thead th {\n",
       "        text-align: right;\n",
       "    }\n",
       "</style>\n",
       "<table border=\"1\" class=\"dataframe\">\n",
       "  <thead>\n",
       "    <tr style=\"text-align: right;\">\n",
       "      <th></th>\n",
       "      <th>count</th>\n",
       "      <th>mean</th>\n",
       "      <th>min</th>\n",
       "      <th>25%</th>\n",
       "      <th>50%</th>\n",
       "      <th>75%</th>\n",
       "      <th>max</th>\n",
       "      <th>std</th>\n",
       "    </tr>\n",
       "  </thead>\n",
       "  <tbody>\n",
       "    <tr>\n",
       "      <th>id</th>\n",
       "      <td>1048575.0</td>\n",
       "      <td>754688.796065</td>\n",
       "      <td>2.0</td>\n",
       "      <td>384662.5</td>\n",
       "      <td>818379.0</td>\n",
       "      <td>1140640.5</td>\n",
       "      <td>1411041.0</td>\n",
       "      <td>420745.702642</td>\n",
       "    </tr>\n",
       "    <tr>\n",
       "      <th>vote_average</th>\n",
       "      <td>1048575.0</td>\n",
       "      <td>2.04156</td>\n",
       "      <td>0.0</td>\n",
       "      <td>0.0</td>\n",
       "      <td>0.0</td>\n",
       "      <td>5.0</td>\n",
       "      <td>10.0</td>\n",
       "      <td>3.097234</td>\n",
       "    </tr>\n",
       "    <tr>\n",
       "      <th>vote_count</th>\n",
       "      <td>1048575.0</td>\n",
       "      <td>20.455842</td>\n",
       "      <td>0.0</td>\n",
       "      <td>0.0</td>\n",
       "      <td>0.0</td>\n",
       "      <td>1.0</td>\n",
       "      <td>34495.0</td>\n",
       "      <td>331.566881</td>\n",
       "    </tr>\n",
       "    <tr>\n",
       "      <th>release_date</th>\n",
       "      <td>864788</td>\n",
       "      <td>2000-04-28 01:29:31.201265280</td>\n",
       "      <td>1900-01-01 00:00:00</td>\n",
       "      <td>1989-06-06 00:00:00</td>\n",
       "      <td>2010-10-16 00:00:00</td>\n",
       "      <td>2019-01-09 00:00:00</td>\n",
       "      <td>2099-11-18 00:00:00</td>\n",
       "      <td>NaN</td>\n",
       "    </tr>\n",
       "    <tr>\n",
       "      <th>revenue</th>\n",
       "      <td>1048575.0</td>\n",
       "      <td>760411.204701</td>\n",
       "      <td>-12.0</td>\n",
       "      <td>0.0</td>\n",
       "      <td>0.0</td>\n",
       "      <td>0.0</td>\n",
       "      <td>4999999999.0</td>\n",
       "      <td>19449249.109767</td>\n",
       "    </tr>\n",
       "    <tr>\n",
       "      <th>runtime</th>\n",
       "      <td>1048575.0</td>\n",
       "      <td>48.226096</td>\n",
       "      <td>-28.0</td>\n",
       "      <td>0.0</td>\n",
       "      <td>23.0</td>\n",
       "      <td>89.0</td>\n",
       "      <td>14400.0</td>\n",
       "      <td>60.578225</td>\n",
       "    </tr>\n",
       "    <tr>\n",
       "      <th>budget</th>\n",
       "      <td>1048575.0</td>\n",
       "      <td>291323.162632</td>\n",
       "      <td>0.0</td>\n",
       "      <td>0.0</td>\n",
       "      <td>0.0</td>\n",
       "      <td>0.0</td>\n",
       "      <td>999999999.0</td>\n",
       "      <td>5319290.155414</td>\n",
       "    </tr>\n",
       "    <tr>\n",
       "      <th>popularity</th>\n",
       "      <td>1048575.0</td>\n",
       "      <td>1.276393</td>\n",
       "      <td>0.0</td>\n",
       "      <td>0.6</td>\n",
       "      <td>0.6</td>\n",
       "      <td>0.917</td>\n",
       "      <td>2994.357</td>\n",
       "      <td>7.889555</td>\n",
       "    </tr>\n",
       "  </tbody>\n",
       "</table>\n",
       "</div>"
      ],
      "text/plain": [
       "                  count                           mean                  min  \\\n",
       "id            1048575.0                  754688.796065                  2.0   \n",
       "vote_average  1048575.0                        2.04156                  0.0   \n",
       "vote_count    1048575.0                      20.455842                  0.0   \n",
       "release_date     864788  2000-04-28 01:29:31.201265280  1900-01-01 00:00:00   \n",
       "revenue       1048575.0                  760411.204701                -12.0   \n",
       "runtime       1048575.0                      48.226096                -28.0   \n",
       "budget        1048575.0                  291323.162632                  0.0   \n",
       "popularity    1048575.0                       1.276393                  0.0   \n",
       "\n",
       "                              25%                  50%                  75%  \\\n",
       "id                       384662.5             818379.0            1140640.5   \n",
       "vote_average                  0.0                  0.0                  5.0   \n",
       "vote_count                    0.0                  0.0                  1.0   \n",
       "release_date  1989-06-06 00:00:00  2010-10-16 00:00:00  2019-01-09 00:00:00   \n",
       "revenue                       0.0                  0.0                  0.0   \n",
       "runtime                       0.0                 23.0                 89.0   \n",
       "budget                        0.0                  0.0                  0.0   \n",
       "popularity                    0.6                  0.6                0.917   \n",
       "\n",
       "                              max              std  \n",
       "id                      1411041.0    420745.702642  \n",
       "vote_average                 10.0         3.097234  \n",
       "vote_count                34495.0       331.566881  \n",
       "release_date  2099-11-18 00:00:00              NaN  \n",
       "revenue              4999999999.0  19449249.109767  \n",
       "runtime                   14400.0        60.578225  \n",
       "budget                999999999.0   5319290.155414  \n",
       "popularity               2994.357         7.889555  "
      ]
     },
     "execution_count": 71,
     "metadata": {},
     "output_type": "execute_result"
    }
   ],
   "source": [
    "# mostramos descripcion del dataframe\n",
    "\n",
    "df.describe().T.round()"
   ]
  },
  {
   "cell_type": "code",
   "execution_count": 5,
   "id": "c62db525-f9bd-4ceb-ad10-7a030d4b7c50",
   "metadata": {},
   "outputs": [
    {
     "name": "stdout",
     "output_type": "stream",
     "text": [
      "<class 'pandas.core.frame.DataFrame'>\n",
      "RangeIndex: 1048575 entries, 0 to 1048574\n",
      "Data columns (total 21 columns):\n",
      " #   Column                Non-Null Count    Dtype  \n",
      "---  ------                --------------    -----  \n",
      " 0   id                    1048575 non-null  int64  \n",
      " 1   title                 1048562 non-null  object \n",
      " 2   vote_average          1048575 non-null  float64\n",
      " 3   vote_count            1048575 non-null  int64  \n",
      " 4   status                1048575 non-null  object \n",
      " 5   release_date          866758 non-null   object \n",
      " 6   revenue               1048575 non-null  int64  \n",
      " 7   runtime               1048575 non-null  int64  \n",
      " 8   adult                 1048575 non-null  bool   \n",
      " 9   budget                1048575 non-null  int64  \n",
      " 10  imdb_id               560572 non-null   object \n",
      " 11  original_language     1048575 non-null  object \n",
      " 12  original_title        1048562 non-null  object \n",
      " 13  overview              832751 non-null   object \n",
      " 14  popularity            1048575 non-null  float64\n",
      " 15  tagline               152728 non-null   object \n",
      " 16  genres                633603 non-null   object \n",
      " 17  production_companies  480147 non-null   object \n",
      " 18  production_countries  585078 non-null   object \n",
      " 19  spoken_languages      607913 non-null   object \n",
      " 20  keywords              292621 non-null   object \n",
      "dtypes: bool(1), float64(2), int64(5), object(13)\n",
      "memory usage: 161.0+ MB\n"
     ]
    }
   ],
   "source": [
    "# informacion del dataset\n",
    "\n",
    "df.info()"
   ]
  },
  {
   "cell_type": "code",
   "execution_count": 6,
   "id": "c3b6c488-79e4-4794-abd6-0a9e47201b60",
   "metadata": {},
   "outputs": [
    {
     "data": {
      "text/plain": [
       "tagline                 895847\n",
       "keywords                755954\n",
       "production_companies    568428\n",
       "imdb_id                 488003\n",
       "production_countries    463497\n",
       "spoken_languages        440662\n",
       "genres                  414972\n",
       "overview                215824\n",
       "release_date            181817\n",
       "title                       13\n",
       "original_title              13\n",
       "vote_average                 0\n",
       "id                           0\n",
       "status                       0\n",
       "vote_count                   0\n",
       "original_language            0\n",
       "adult                        0\n",
       "revenue                      0\n",
       "budget                       0\n",
       "runtime                      0\n",
       "popularity                   0\n",
       "dtype: int64"
      ]
     },
     "execution_count": 6,
     "metadata": {},
     "output_type": "execute_result"
    }
   ],
   "source": [
    "# chequeamos los valores que faltan\n",
    "\n",
    "df.isnull().sum().sort_values(ascending=False)"
   ]
  },
  {
   "cell_type": "code",
   "execution_count": 7,
   "id": "0c210d4b-e18c-4497-8205-5a88b562abcb",
   "metadata": {},
   "outputs": [
    {
     "name": "stdout",
     "output_type": "stream",
     "text": [
      "Las series que tienen valores nulos son:\n",
      " - tagline con 895847 faltantes\n",
      " - keywords con 755954 faltantes\n",
      " - production_companies con 568428 faltantes\n",
      " - imdb_id con 488003 faltantes\n",
      " - production_countries con 463497 faltantes\n",
      " - spoken_languages con 440662 faltantes\n",
      " - genres con 414972 faltantes\n",
      " - overview con 215824 faltantes\n",
      " - release_date con 181817 faltantes\n",
      " - title con 13 faltantes\n",
      " - original_title con 13 faltantes\n"
     ]
    }
   ],
   "source": [
    "output = df.isnull().sum().sort_values(ascending=False)[df.isnull().sum() != 0].to_dict()\n",
    "\n",
    "print(\"Las series que tienen valores nulos son:\")\n",
    "for key, value in output.items():\n",
    "    print(\" - \" + key + \" con \" + str(value) + \" faltantes\")"
   ]
  },
  {
   "cell_type": "code",
   "execution_count": 8,
   "id": "5b1347e4-fb52-4108-be44-c7797b346a8c",
   "metadata": {},
   "outputs": [
    {
     "name": "stdout",
     "output_type": "stream",
     "text": [
      "Los porcentajes de faltantes por serie\n"
     ]
    },
    {
     "data": {
      "text/plain": [
       "tagline                 85.43\n",
       "keywords                72.09\n",
       "production_companies    54.20\n",
       "imdb_id                 46.53\n",
       "production_countries    44.20\n",
       "spoken_languages        42.02\n",
       "genres                  39.57\n",
       "overview                20.58\n",
       "release_date            17.33\n",
       "title                    0.00\n",
       "original_title           0.00\n",
       "dtype: float64"
      ]
     },
     "execution_count": 8,
     "metadata": {},
     "output_type": "execute_result"
    }
   ],
   "source": [
    "# chequeamos los valores que faltan, pero se muestran los porcentajes en este caso\n",
    "\n",
    "print(\"Los porcentajes de faltantes por serie\")\n",
    "output = df.isnull().sum().sort_values(ascending=False)[df.isnull().sum() != 0] / len(df) * 100\n",
    "\n",
    "output.apply(lambda x: int(x * 100) / 100)"
   ]
  },
  {
   "cell_type": "code",
   "execution_count": 44,
   "id": "d6767ba1-e44e-4120-9f4c-1f1211d65941",
   "metadata": {},
   "outputs": [
    {
     "data": {
      "text/plain": [
       "0     27205\n",
       "1    157336\n",
       "2       155\n",
       "3     19995\n",
       "4     24428\n",
       "Name: id, dtype: int64"
      ]
     },
     "execution_count": 44,
     "metadata": {},
     "output_type": "execute_result"
    }
   ],
   "source": [
    "# chequeo el contenido de la serie \"id\"\n",
    "\n",
    "df[\"id\"].head()"
   ]
  },
  {
   "cell_type": "code",
   "execution_count": 76,
   "id": "7be624b1-4519-43f4-9d02-675baebc0c64",
   "metadata": {},
   "outputs": [
    {
     "data": {
      "text/plain": [
       "count    1.048575e+06\n",
       "mean     7.546888e+05\n",
       "std      4.207457e+05\n",
       "min      2.000000e+00\n",
       "25%      3.846625e+05\n",
       "50%      8.183790e+05\n",
       "75%      1.140640e+06\n",
       "max      1.411041e+06\n",
       "Name: id, dtype: float64"
      ]
     },
     "execution_count": 76,
     "metadata": {},
     "output_type": "execute_result"
    }
   ],
   "source": [
    "df[\"id\"].describe()"
   ]
  },
  {
   "cell_type": "code",
   "execution_count": 45,
   "id": "9f96f3da-5da1-43f4-bb97-952c627de287",
   "metadata": {},
   "outputs": [
    {
     "data": {
      "text/plain": [
       "0          Inception\n",
       "1       Interstellar\n",
       "2    The Dark Knight\n",
       "3             Avatar\n",
       "4       The Avengers\n",
       "Name: title, dtype: object"
      ]
     },
     "execution_count": 45,
     "metadata": {},
     "output_type": "execute_result"
    }
   ],
   "source": [
    "# chequeo el contenido de la serie \"title\"\n",
    "\n",
    "df[\"title\"].head()"
   ]
  },
  {
   "cell_type": "code",
   "execution_count": 46,
   "id": "c67180ed-4fa8-4c0b-bd96-b0defcbc8650",
   "metadata": {},
   "outputs": [
    {
     "data": {
      "text/plain": [
       "0    8.364\n",
       "1    8.417\n",
       "2    8.512\n",
       "3    7.573\n",
       "4    7.710\n",
       "Name: vote_average, dtype: float64"
      ]
     },
     "execution_count": 46,
     "metadata": {},
     "output_type": "execute_result"
    }
   ],
   "source": [
    "# chequeo el contenido de la serie \"vote_average\"\n",
    "\n",
    "df[\"vote_average\"].head()"
   ]
  },
  {
   "cell_type": "code",
   "execution_count": 47,
   "id": "7197d3f1-0e50-48f0-9ac9-97b7a7d302c5",
   "metadata": {},
   "outputs": [
    {
     "data": {
      "text/plain": [
       "0    34495\n",
       "1    32571\n",
       "2    30619\n",
       "3    29815\n",
       "4    29166\n",
       "Name: vote_count, dtype: int64"
      ]
     },
     "execution_count": 47,
     "metadata": {},
     "output_type": "execute_result"
    }
   ],
   "source": [
    "# chequeo el contenido de la serie \"vote_count\"\n",
    "\n",
    "df[\"vote_count\"].head()"
   ]
  },
  {
   "cell_type": "code",
   "execution_count": 75,
   "id": "610c7ad5-f0ae-48b9-af21-fa2ebf208031",
   "metadata": {},
   "outputs": [
    {
     "data": {
      "text/plain": [
       "count    1.048575e+06\n",
       "mean     2.045584e+01\n",
       "std      3.315669e+02\n",
       "min      0.000000e+00\n",
       "25%      0.000000e+00\n",
       "50%      0.000000e+00\n",
       "75%      1.000000e+00\n",
       "max      3.449500e+04\n",
       "Name: vote_count, dtype: float64"
      ]
     },
     "execution_count": 75,
     "metadata": {},
     "output_type": "execute_result"
    }
   ],
   "source": [
    "df[\"vote_count\"].describe()"
   ]
  },
  {
   "cell_type": "code",
   "execution_count": 48,
   "id": "e5418970-6231-48bb-acd9-0002d3b702e8",
   "metadata": {},
   "outputs": [
    {
     "data": {
      "text/plain": [
       "0    Released\n",
       "1    Released\n",
       "2    Released\n",
       "3    Released\n",
       "4    Released\n",
       "Name: status, dtype: object"
      ]
     },
     "execution_count": 48,
     "metadata": {},
     "output_type": "execute_result"
    }
   ],
   "source": [
    "# chequeo el contenido de la serie \"status\"\n",
    "\n",
    "df[\"status\"].head()"
   ]
  },
  {
   "cell_type": "code",
   "execution_count": 72,
   "id": "f3f1d7bd-02b9-420a-871b-67fc4137d7a0",
   "metadata": {},
   "outputs": [
    {
     "data": {
      "text/plain": [
       "{'Canceled',\n",
       " 'In Production',\n",
       " 'Planned',\n",
       " 'Post Production',\n",
       " 'Released',\n",
       " 'Rumored'}"
      ]
     },
     "execution_count": 72,
     "metadata": {},
     "output_type": "execute_result"
    }
   ],
   "source": [
    "set(df[\"status\"].values)"
   ]
  },
  {
   "cell_type": "code",
   "execution_count": 77,
   "id": "675d57ae-5f49-4039-8d67-24a17ea8221a",
   "metadata": {},
   "outputs": [
    {
     "data": {
      "text/plain": [
       "count      1048575\n",
       "unique           6\n",
       "top       Released\n",
       "freq       1022770\n",
       "Name: status, dtype: object"
      ]
     },
     "execution_count": 77,
     "metadata": {},
     "output_type": "execute_result"
    }
   ],
   "source": [
    "df[\"status\"].describe()"
   ]
  },
  {
   "cell_type": "code",
   "execution_count": 49,
   "id": "6c8e3d21-0e76-4097-b71a-4cc4d4beba21",
   "metadata": {},
   "outputs": [
    {
     "data": {
      "text/plain": [
       "0   2010-07-15\n",
       "1   2014-11-05\n",
       "2   2008-07-16\n",
       "3   2009-12-15\n",
       "4   2012-04-25\n",
       "Name: release_date, dtype: datetime64[ns]"
      ]
     },
     "execution_count": 49,
     "metadata": {},
     "output_type": "execute_result"
    }
   ],
   "source": [
    "# chequeo el contenido de la serie \"release_date\"\n",
    "\n",
    "df[\"release_date\"].head()"
   ]
  },
  {
   "cell_type": "code",
   "execution_count": 50,
   "id": "8c8525d9-7f5c-415b-94cc-2da4d1910217",
   "metadata": {},
   "outputs": [
    {
     "data": {
      "text/plain": [
       "0     825532764\n",
       "1     701729206\n",
       "2    1004558444\n",
       "3    2923706026\n",
       "4    1518815515\n",
       "Name: revenue, dtype: int64"
      ]
     },
     "execution_count": 50,
     "metadata": {},
     "output_type": "execute_result"
    }
   ],
   "source": [
    "# chequeo el contenido de la serie \"revenue\"\n",
    "\n",
    "df[\"revenue\"].head()"
   ]
  },
  {
   "cell_type": "code",
   "execution_count": 74,
   "id": "0282becf-1591-4063-90e9-29a55712887d",
   "metadata": {},
   "outputs": [
    {
     "data": {
      "text/plain": [
       "count    1.048575e+06\n",
       "mean     7.604112e+05\n",
       "std      1.944925e+07\n",
       "min     -1.200000e+01\n",
       "25%      0.000000e+00\n",
       "50%      0.000000e+00\n",
       "75%      0.000000e+00\n",
       "max      5.000000e+09\n",
       "Name: revenue, dtype: float64"
      ]
     },
     "execution_count": 74,
     "metadata": {},
     "output_type": "execute_result"
    }
   ],
   "source": [
    "df[\"revenue\"].describe()"
   ]
  },
  {
   "cell_type": "code",
   "execution_count": 51,
   "id": "45b360f5-bd63-48a2-b7ad-6c118f8b5b61",
   "metadata": {},
   "outputs": [
    {
     "data": {
      "text/plain": [
       "0    148\n",
       "1    169\n",
       "2    152\n",
       "3    162\n",
       "4    143\n",
       "Name: runtime, dtype: int64"
      ]
     },
     "execution_count": 51,
     "metadata": {},
     "output_type": "execute_result"
    }
   ],
   "source": [
    "# chequeo el contenido de la serie \"runtime\"\n",
    "\n",
    "df[\"runtime\"].head()"
   ]
  },
  {
   "cell_type": "code",
   "execution_count": 78,
   "id": "dea50cb0-355d-43b6-874d-e74047f2e36c",
   "metadata": {},
   "outputs": [
    {
     "data": {
      "text/plain": [
       "count    1.048575e+06\n",
       "mean     4.822610e+01\n",
       "std      6.057823e+01\n",
       "min     -2.800000e+01\n",
       "25%      0.000000e+00\n",
       "50%      2.300000e+01\n",
       "75%      8.900000e+01\n",
       "max      1.440000e+04\n",
       "Name: runtime, dtype: float64"
      ]
     },
     "execution_count": 78,
     "metadata": {},
     "output_type": "execute_result"
    }
   ],
   "source": [
    "df[\"runtime\"].describe()"
   ]
  },
  {
   "cell_type": "code",
   "execution_count": 52,
   "id": "20b2cb91-bf5f-4cf9-b9fd-47872928a946",
   "metadata": {},
   "outputs": [
    {
     "data": {
      "text/plain": [
       "0    False\n",
       "1    False\n",
       "2    False\n",
       "3    False\n",
       "4    False\n",
       "Name: adult, dtype: bool"
      ]
     },
     "execution_count": 52,
     "metadata": {},
     "output_type": "execute_result"
    }
   ],
   "source": [
    "# chequeo el contenido de la serie \"adult\"\n",
    "\n",
    "df[\"adult\"].head()"
   ]
  },
  {
   "cell_type": "code",
   "execution_count": 53,
   "id": "8c947efe-72d8-42ef-a857-6dbdd9154b3f",
   "metadata": {},
   "outputs": [
    {
     "data": {
      "text/plain": [
       "0    160000000\n",
       "1    165000000\n",
       "2    185000000\n",
       "3    237000000\n",
       "4    220000000\n",
       "Name: budget, dtype: int64"
      ]
     },
     "execution_count": 53,
     "metadata": {},
     "output_type": "execute_result"
    }
   ],
   "source": [
    "# chequeo el contenido de la serie \"budget\"\n",
    "\n",
    "df[\"budget\"].head()"
   ]
  },
  {
   "cell_type": "code",
   "execution_count": 79,
   "id": "63a6be82-a0e8-4b94-9d86-b2ad4be33228",
   "metadata": {},
   "outputs": [
    {
     "data": {
      "text/plain": [
       "count    1.048575e+06\n",
       "mean     2.913232e+05\n",
       "std      5.319290e+06\n",
       "min      0.000000e+00\n",
       "25%      0.000000e+00\n",
       "50%      0.000000e+00\n",
       "75%      0.000000e+00\n",
       "max      1.000000e+09\n",
       "Name: budget, dtype: float64"
      ]
     },
     "execution_count": 79,
     "metadata": {},
     "output_type": "execute_result"
    }
   ],
   "source": [
    "df[\"budget\"].describe()"
   ]
  },
  {
   "cell_type": "code",
   "execution_count": 54,
   "id": "ca7ae4bb-5ba6-4995-a329-9deb12b57e38",
   "metadata": {},
   "outputs": [
    {
     "data": {
      "text/plain": [
       "0    tt1375666\n",
       "1    tt0816692\n",
       "2    tt0468569\n",
       "3    tt0499549\n",
       "4    tt0848228\n",
       "Name: imdb_id, dtype: object"
      ]
     },
     "execution_count": 54,
     "metadata": {},
     "output_type": "execute_result"
    }
   ],
   "source": [
    "# chequeo el contenido de la serie \"imdb_id\"\n",
    "\n",
    "df[\"imdb_id\"].head()"
   ]
  },
  {
   "cell_type": "code",
   "execution_count": 55,
   "id": "69f35d37-7b50-474e-baef-8b863d00f7c2",
   "metadata": {},
   "outputs": [
    {
     "data": {
      "text/plain": [
       "0    en\n",
       "1    en\n",
       "2    en\n",
       "3    en\n",
       "4    en\n",
       "Name: original_language, dtype: object"
      ]
     },
     "execution_count": 55,
     "metadata": {},
     "output_type": "execute_result"
    }
   ],
   "source": [
    "# chequeo el contenido de la serie \"original_language\"\n",
    "\n",
    "df[\"original_language\"].head()"
   ]
  },
  {
   "cell_type": "code",
   "execution_count": 69,
   "id": "041cab67-4f67-43eb-957c-443459b4c6bb",
   "metadata": {},
   "outputs": [
    {
     "data": {
      "text/plain": [
       "{'aa',\n",
       " 'ab',\n",
       " 'af',\n",
       " 'ak',\n",
       " 'am',\n",
       " 'an',\n",
       " 'ar',\n",
       " 'as',\n",
       " 'av',\n",
       " 'ay',\n",
       " 'az',\n",
       " 'ba',\n",
       " 'be',\n",
       " 'bg',\n",
       " 'bi',\n",
       " 'bm',\n",
       " 'bn',\n",
       " 'bo',\n",
       " 'br',\n",
       " 'bs',\n",
       " 'ca',\n",
       " 'ce',\n",
       " 'ch',\n",
       " 'cn',\n",
       " 'co',\n",
       " 'cr',\n",
       " 'cs',\n",
       " 'cv',\n",
       " 'cy',\n",
       " 'da',\n",
       " 'de',\n",
       " 'dv',\n",
       " 'dz',\n",
       " 'el',\n",
       " 'en',\n",
       " 'eo',\n",
       " 'es',\n",
       " 'et',\n",
       " 'eu',\n",
       " 'fa',\n",
       " 'ff',\n",
       " 'fi',\n",
       " 'fj',\n",
       " 'fo',\n",
       " 'fr',\n",
       " 'fy',\n",
       " 'ga',\n",
       " 'gd',\n",
       " 'gl',\n",
       " 'gn',\n",
       " 'gu',\n",
       " 'gv',\n",
       " 'ha',\n",
       " 'he',\n",
       " 'hi',\n",
       " 'hr',\n",
       " 'ht',\n",
       " 'hu',\n",
       " 'hy',\n",
       " 'hz',\n",
       " 'ia',\n",
       " 'id',\n",
       " 'ie',\n",
       " 'ig',\n",
       " 'ik',\n",
       " 'is',\n",
       " 'it',\n",
       " 'iu',\n",
       " 'ja',\n",
       " 'jv',\n",
       " 'ka',\n",
       " 'kg',\n",
       " 'ki',\n",
       " 'kj',\n",
       " 'kk',\n",
       " 'kl',\n",
       " 'km',\n",
       " 'kn',\n",
       " 'ko',\n",
       " 'ks',\n",
       " 'ku',\n",
       " 'kv',\n",
       " 'kw',\n",
       " 'ky',\n",
       " 'la',\n",
       " 'lb',\n",
       " 'lg',\n",
       " 'li',\n",
       " 'ln',\n",
       " 'lo',\n",
       " 'lt',\n",
       " 'lv',\n",
       " 'mg',\n",
       " 'mh',\n",
       " 'mi',\n",
       " 'mk',\n",
       " 'ml',\n",
       " 'mn',\n",
       " 'mo',\n",
       " 'mr',\n",
       " 'ms',\n",
       " 'mt',\n",
       " 'my',\n",
       " 'nb',\n",
       " 'nd',\n",
       " 'ne',\n",
       " 'nl',\n",
       " 'nn',\n",
       " 'no',\n",
       " 'nr',\n",
       " 'nv',\n",
       " 'ny',\n",
       " 'oc',\n",
       " 'oj',\n",
       " 'om',\n",
       " 'or',\n",
       " 'os',\n",
       " 'pa',\n",
       " 'pl',\n",
       " 'ps',\n",
       " 'pt',\n",
       " 'qu',\n",
       " 'rm',\n",
       " 'rn',\n",
       " 'ro',\n",
       " 'ru',\n",
       " 'rw',\n",
       " 'sa',\n",
       " 'sc',\n",
       " 'sd',\n",
       " 'se',\n",
       " 'sg',\n",
       " 'sh',\n",
       " 'si',\n",
       " 'sk',\n",
       " 'sl',\n",
       " 'sm',\n",
       " 'sn',\n",
       " 'so',\n",
       " 'sq',\n",
       " 'sr',\n",
       " 'ss',\n",
       " 'st',\n",
       " 'su',\n",
       " 'sv',\n",
       " 'sw',\n",
       " 'ta',\n",
       " 'te',\n",
       " 'tg',\n",
       " 'th',\n",
       " 'ti',\n",
       " 'tk',\n",
       " 'tl',\n",
       " 'tn',\n",
       " 'to',\n",
       " 'tr',\n",
       " 'tt',\n",
       " 'tw',\n",
       " 'ty',\n",
       " 'ug',\n",
       " 'uk',\n",
       " 'ur',\n",
       " 'uz',\n",
       " 'vi',\n",
       " 'wo',\n",
       " 'xh',\n",
       " 'xx',\n",
       " 'yi',\n",
       " 'yo',\n",
       " 'za',\n",
       " 'zh',\n",
       " 'zu'}"
      ]
     },
     "execution_count": 69,
     "metadata": {},
     "output_type": "execute_result"
    }
   ],
   "source": [
    "set(df[\"original_language\"].values)"
   ]
  },
  {
   "cell_type": "code",
   "execution_count": 80,
   "id": "8d4aacdc-448a-47bf-a73c-ccbc11fca999",
   "metadata": {},
   "outputs": [
    {
     "data": {
      "text/plain": [
       "count     1048575\n",
       "unique        172\n",
       "top            en\n",
       "freq       566257\n",
       "Name: original_language, dtype: object"
      ]
     },
     "execution_count": 80,
     "metadata": {},
     "output_type": "execute_result"
    }
   ],
   "source": [
    "df[\"original_language\"].describe()"
   ]
  },
  {
   "cell_type": "code",
   "execution_count": 56,
   "id": "d469f678-ffd0-4455-be43-86bbd17e25d0",
   "metadata": {},
   "outputs": [
    {
     "data": {
      "text/plain": [
       "0          Inception\n",
       "1       Interstellar\n",
       "2    The Dark Knight\n",
       "3             Avatar\n",
       "4       The Avengers\n",
       "Name: original_title, dtype: object"
      ]
     },
     "execution_count": 56,
     "metadata": {},
     "output_type": "execute_result"
    }
   ],
   "source": [
    "# chequeo el contenido de la serie \"original_title\"\n",
    "\n",
    "df[\"original_title\"].head()"
   ]
  },
  {
   "cell_type": "code",
   "execution_count": 65,
   "id": "89ac0754-215d-45a4-b9d6-40ce26478fe6",
   "metadata": {},
   "outputs": [
    {
     "data": {
      "text/plain": [
       "0    Cobb, a skilled thief who commits corporate es...\n",
       "1    The adventures of a group of explorers who mak...\n",
       "2    Batman raises the stakes in his war on crime. ...\n",
       "3    In the 22nd century, a paraplegic Marine is di...\n",
       "4    When an unexpected enemy emerges and threatens...\n",
       "Name: overview, dtype: object"
      ]
     },
     "execution_count": 65,
     "metadata": {},
     "output_type": "execute_result"
    }
   ],
   "source": [
    "# chequeo el contenido de la serie \"overview\"\n",
    "\n",
    "df[\"overview\"].head()"
   ]
  },
  {
   "cell_type": "code",
   "execution_count": 58,
   "id": "2b4ef7b9-aac7-404d-8ee1-a0fd01128de9",
   "metadata": {},
   "outputs": [
    {
     "data": {
      "text/plain": [
       "0     83.952\n",
       "1    140.241\n",
       "2    130.643\n",
       "3     79.932\n",
       "4     98.082\n",
       "Name: popularity, dtype: float64"
      ]
     },
     "execution_count": 58,
     "metadata": {},
     "output_type": "execute_result"
    }
   ],
   "source": [
    "# chequeo el contenido de la serie \"popularity\"\n",
    "\n",
    "df[\"popularity\"].head()"
   ]
  },
  {
   "cell_type": "code",
   "execution_count": 81,
   "id": "b6944b69-20f7-493b-a457-0ed2f3acc5fa",
   "metadata": {},
   "outputs": [
    {
     "data": {
      "text/plain": [
       "count    1.048575e+06\n",
       "mean     1.276393e+00\n",
       "std      7.889555e+00\n",
       "min      0.000000e+00\n",
       "25%      6.000000e-01\n",
       "50%      6.000000e-01\n",
       "75%      9.170000e-01\n",
       "max      2.994357e+03\n",
       "Name: popularity, dtype: float64"
      ]
     },
     "execution_count": 81,
     "metadata": {},
     "output_type": "execute_result"
    }
   ],
   "source": [
    "df[\"popularity\"].describe()"
   ]
  },
  {
   "cell_type": "code",
   "execution_count": 59,
   "id": "a84c2300-bde0-4177-81d4-2a34099a05fa",
   "metadata": {},
   "outputs": [
    {
     "data": {
      "text/plain": [
       "0                 Your mind is the scene of the crime.\n",
       "1    Mankind was born on Earth. It was never meant ...\n",
       "2                    Welcome to a world without rules.\n",
       "3                          Enter the world of Pandora.\n",
       "4                              Some assembly required.\n",
       "Name: tagline, dtype: object"
      ]
     },
     "execution_count": 59,
     "metadata": {},
     "output_type": "execute_result"
    }
   ],
   "source": [
    "# chequeo el contenido de la serie \"tagline\"\n",
    "\n",
    "df[\"tagline\"].head()"
   ]
  },
  {
   "cell_type": "code",
   "execution_count": 60,
   "id": "04c76c35-f2e6-4255-9385-64e57a4707c6",
   "metadata": {},
   "outputs": [
    {
     "data": {
      "text/plain": [
       "0             Action, Science Fiction, Adventure\n",
       "1              Adventure, Drama, Science Fiction\n",
       "2                 Drama, Action, Crime, Thriller\n",
       "3    Action, Adventure, Fantasy, Science Fiction\n",
       "4             Science Fiction, Action, Adventure\n",
       "Name: genres, dtype: object"
      ]
     },
     "execution_count": 60,
     "metadata": {},
     "output_type": "execute_result"
    }
   ],
   "source": [
    "# chequeo el contenido de la serie \"genres\"\n",
    "\n",
    "df[\"genres\"].head()"
   ]
  },
  {
   "cell_type": "code",
   "execution_count": 61,
   "id": "6b0f862f-731c-4fbf-8a57-994906ce10c7",
   "metadata": {},
   "outputs": [
    {
     "data": {
      "text/plain": [
       "0    Legendary Pictures, Syncopy, Warner Bros. Pict...\n",
       "1    Legendary Pictures, Syncopy, Lynda Obst Produc...\n",
       "2    DC Comics, Legendary Pictures, Syncopy, Isobel...\n",
       "3    Dune Entertainment, Lightstorm Entertainment, ...\n",
       "4                                       Marvel Studios\n",
       "Name: production_companies, dtype: object"
      ]
     },
     "execution_count": 61,
     "metadata": {},
     "output_type": "execute_result"
    }
   ],
   "source": [
    "# chequeo el contenido de la serie \"production_companies\"\n",
    "\n",
    "df[\"production_companies\"].head()"
   ]
  },
  {
   "cell_type": "code",
   "execution_count": 62,
   "id": "c136c939-5aee-40de-8fd6-640d092ab718",
   "metadata": {},
   "outputs": [
    {
     "data": {
      "text/plain": [
       "0    United Kingdom, United States of America\n",
       "1    United Kingdom, United States of America\n",
       "2    United Kingdom, United States of America\n",
       "3    United States of America, United Kingdom\n",
       "4                    United States of America\n",
       "5                    United States of America\n",
       "6                    United States of America\n",
       "7                    United States of America\n",
       "8                    United States of America\n",
       "9                    United States of America\n",
       "Name: production_countries, dtype: object"
      ]
     },
     "execution_count": 62,
     "metadata": {},
     "output_type": "execute_result"
    }
   ],
   "source": [
    "# chequeo el contenido de la serie \"production_countries\"\n",
    "\n",
    "df[\"production_countries\"].head(10)"
   ]
  },
  {
   "cell_type": "code",
   "execution_count": 63,
   "id": "98f4baed-a6ca-4fb2-ab37-99acffc6ada5",
   "metadata": {},
   "outputs": [
    {
     "data": {
      "text/plain": [
       "0    English, French, Japanese, Swahili\n",
       "1                               English\n",
       "2                     English, Mandarin\n",
       "3                      English, Spanish\n",
       "4               English, Hindi, Russian\n",
       "5                               English\n",
       "6                        English, Xhosa\n",
       "7                               English\n",
       "8                               English\n",
       "9              English, Spanish, French\n",
       "Name: spoken_languages, dtype: object"
      ]
     },
     "execution_count": 63,
     "metadata": {},
     "output_type": "execute_result"
    }
   ],
   "source": [
    "# chequeo el contenido de la serie \"spoken_languages\"\n",
    "\n",
    "df[\"spoken_languages\"].head(10)"
   ]
  },
  {
   "cell_type": "code",
   "execution_count": 64,
   "id": "0dac4070-6152-4070-956d-9468d53c0a4d",
   "metadata": {},
   "outputs": [
    {
     "data": {
      "text/plain": [
       "0    rescue, mission, dream, airplane, paris, franc...\n",
       "1    rescue, future, spacecraft, race against time,...\n",
       "2    joker, sadism, chaos, secret identity, crime f...\n",
       "3    future, society, culture clash, space travel, ...\n",
       "4    new york city, superhero, shield, based on com...\n",
       "5    superhero, anti hero, mercenary, based on comi...\n",
       "6    sacrifice, magic, superhero, based on comic, s...\n",
       "7    dual identity, rage and hate, based on novel o...\n",
       "8    spacecraft, based on comic, space, orphan, adv...\n",
       "9    drug dealer, boxer, massage, stolen money, bri...\n",
       "Name: keywords, dtype: object"
      ]
     },
     "execution_count": 64,
     "metadata": {},
     "output_type": "execute_result"
    }
   ],
   "source": [
    "# chequeo el contenido de la serie \"keywords\"\n",
    "\n",
    "df[\"keywords\"].head(10)"
   ]
  },
  {
   "cell_type": "markdown",
   "id": "5f44be84-be87-46e3-9354-5185b08bbef7",
   "metadata": {},
   "source": [
    "#### Hipótesis planteadas"
   ]
  },
  {
   "cell_type": "markdown",
   "id": "f6cda05b-9c00-469b-8db4-b6c57c558a33",
   "metadata": {},
   "source": [
    "##### 1) La popularidad o interés por las películas de Ciencia Ficción comenzó a partir de la década de 1940 y se mantuvo por varios años\n",
    "##### 2) El estado más común en todos los géneros es: LANZAMIENTO (released)\n",
    "##### 3) En la década de 2010 hubo la mayor cantidad de películas registradas"
   ]
  },
  {
   "cell_type": "markdown",
   "id": "9626c17b-9993-4878-9183-0bdfc8c5713a",
   "metadata": {},
   "source": [
    "#### Hipótesis (1)"
   ]
  },
  {
   "cell_type": "code",
   "execution_count": 83,
   "id": "f0460702-f6d6-49b8-8cba-5635f1047e89",
   "metadata": {},
   "outputs": [
    {
     "data": {
      "text/html": [
       "    <style>\n",
       "        .bk-notebook-logo {\n",
       "            display: block;\n",
       "            width: 20px;\n",
       "            height: 20px;\n",
       "            background-image: url(data:image/png;base64,iVBORw0KGgoAAAANSUhEUgAAABQAAAAUCAYAAACNiR0NAAAABHNCSVQICAgIfAhkiAAAAAlwSFlzAAALEgAACxIB0t1+/AAAABx0RVh0U29mdHdhcmUAQWRvYmUgRmlyZXdvcmtzIENTNui8sowAAAOkSURBVDiNjZRtaJVlGMd/1/08zzln5zjP1LWcU9N0NkN8m2CYjpgQYQXqSs0I84OLIC0hkEKoPtiH3gmKoiJDU7QpLgoLjLIQCpEsNJ1vqUOdO7ppbuec5+V+rj4ctwzd8IIbbi6u+8f1539dt3A78eXC7QizUF7gyV1fD1Yqg4JWz84yffhm0qkFqBogB9rM8tZdtwVsPUhWhGcFJngGeWrPzHm5oaMmkfEg1usvLFyc8jLRqDOMru7AyC8saQr7GG7f5fvDeH7Ej8CM66nIF+8yngt6HWaKh7k49Soy9nXurCi1o3qUbS3zWfrYeQDTB/Qj6kX6Ybhw4B+bOYoLKCC9H3Nu/leUTZ1JdRWkkn2ldcCamzrcf47KKXdAJllSlxAOkRgyHsGC/zRday5Qld9DyoM4/q/rUoy/CXh3jzOu3bHUVZeU+DEn8FInkPBFlu3+nW3Nw0mk6vCDiWg8CeJaxEwuHS3+z5RgY+YBR6V1Z1nxSOfoaPa4LASWxxdNp+VWTk7+4vzaou8v8PN+xo+KY2xsw6une2frhw05CTYOmQvsEhjhWjn0bmXPjpE1+kplmmkP3suftwTubK9Vq22qKmrBhpY4jvd5afdRA3wGjFAgcnTK2s4hY0/GPNIb0nErGMCRxWOOX64Z8RAC4oCXdklmEvcL8o0BfkNK4lUg9HTl+oPlQxdNo3Mg4Nv175e/1LDGzZen30MEjRUtmXSfiTVu1kK8W4txyV6BMKlbgk3lMwYCiusNy9fVfvvwMxv8Ynl6vxoByANLTWplvuj/nF9m2+PDtt1eiHPBr1oIfhCChQMBw6Aw0UulqTKZdfVvfG7VcfIqLG9bcldL/+pdWTLxLUy8Qq38heUIjh4XlzZxzQm19lLFlr8vdQ97rjZVOLf8nclzckbcD4wxXMidpX30sFd37Fv/GtwwhzhxGVAprjbg0gCAEeIgwCZyTV2Z1REEW8O4py0wsjeloKoMr6iCY6dP92H6Vw/oTyICIthibxjm/DfN9lVz8IqtqKYLUXfoKVMVQVVJOElGjrnnUt9T9wbgp8AyYKaGlqingHZU/uG2NTZSVqwHQTWkx9hxjkpWDaCg6Ckj5qebgBVbT3V3NNXMSiWSDdGV3hrtzla7J+duwPOToIg42ChPQOQjspnSlp1V+Gjdged7+8UN5CRAV7a5EdFNwCjEaBR27b3W890TE7g24NAP/mMDXRWrGoFPQI9ls/MWO2dWFAar/xcOIImbbpA3zgAAAABJRU5ErkJggg==);\n",
       "        }\n",
       "    </style>\n",
       "    <div>\n",
       "        <a href=\"https://bokeh.org\" target=\"_blank\" class=\"bk-notebook-logo\"></a>\n",
       "        <span id=\"bd0e1496-32b5-46be-96d2-6863fc299255\">Loading BokehJS ...</span>\n",
       "    </div>\n"
      ]
     },
     "metadata": {},
     "output_type": "display_data"
    },
    {
     "data": {
      "application/javascript": [
       "'use strict';\n",
       "(function(root) {\n",
       "  function now() {\n",
       "    return new Date();\n",
       "  }\n",
       "\n",
       "  const force = true;\n",
       "\n",
       "  if (typeof root._bokeh_onload_callbacks === \"undefined\" || force === true) {\n",
       "    root._bokeh_onload_callbacks = [];\n",
       "    root._bokeh_is_loading = undefined;\n",
       "  }\n",
       "\n",
       "const JS_MIME_TYPE = 'application/javascript';\n",
       "  const HTML_MIME_TYPE = 'text/html';\n",
       "  const EXEC_MIME_TYPE = 'application/vnd.bokehjs_exec.v0+json';\n",
       "  const CLASS_NAME = 'output_bokeh rendered_html';\n",
       "\n",
       "  /**\n",
       "   * Render data to the DOM node\n",
       "   */\n",
       "  function render(props, node) {\n",
       "    const script = document.createElement(\"script\");\n",
       "    node.appendChild(script);\n",
       "  }\n",
       "\n",
       "  /**\n",
       "   * Handle when an output is cleared or removed\n",
       "   */\n",
       "  function handleClearOutput(event, handle) {\n",
       "    function drop(id) {\n",
       "      const view = Bokeh.index.get_by_id(id)\n",
       "      if (view != null) {\n",
       "        view.model.document.clear()\n",
       "        Bokeh.index.delete(view)\n",
       "      }\n",
       "    }\n",
       "\n",
       "    const cell = handle.cell;\n",
       "\n",
       "    const id = cell.output_area._bokeh_element_id;\n",
       "    const server_id = cell.output_area._bokeh_server_id;\n",
       "\n",
       "    // Clean up Bokeh references\n",
       "    if (id != null) {\n",
       "      drop(id)\n",
       "    }\n",
       "\n",
       "    if (server_id !== undefined) {\n",
       "      // Clean up Bokeh references\n",
       "      const cmd_clean = \"from bokeh.io.state import curstate; print(curstate().uuid_to_server['\" + server_id + \"'].get_sessions()[0].document.roots[0]._id)\";\n",
       "      cell.notebook.kernel.execute(cmd_clean, {\n",
       "        iopub: {\n",
       "          output: function(msg) {\n",
       "            const id = msg.content.text.trim()\n",
       "            drop(id)\n",
       "          }\n",
       "        }\n",
       "      });\n",
       "      // Destroy server and session\n",
       "      const cmd_destroy = \"import bokeh.io.notebook as ion; ion.destroy_server('\" + server_id + \"')\";\n",
       "      cell.notebook.kernel.execute(cmd_destroy);\n",
       "    }\n",
       "  }\n",
       "\n",
       "  /**\n",
       "   * Handle when a new output is added\n",
       "   */\n",
       "  function handleAddOutput(event, handle) {\n",
       "    const output_area = handle.output_area;\n",
       "    const output = handle.output;\n",
       "\n",
       "    // limit handleAddOutput to display_data with EXEC_MIME_TYPE content only\n",
       "    if ((output.output_type != \"display_data\") || (!Object.prototype.hasOwnProperty.call(output.data, EXEC_MIME_TYPE))) {\n",
       "      return\n",
       "    }\n",
       "\n",
       "    const toinsert = output_area.element.find(\".\" + CLASS_NAME.split(' ')[0]);\n",
       "\n",
       "    if (output.metadata[EXEC_MIME_TYPE][\"id\"] !== undefined) {\n",
       "      toinsert[toinsert.length - 1].firstChild.textContent = output.data[JS_MIME_TYPE];\n",
       "      // store reference to embed id on output_area\n",
       "      output_area._bokeh_element_id = output.metadata[EXEC_MIME_TYPE][\"id\"];\n",
       "    }\n",
       "    if (output.metadata[EXEC_MIME_TYPE][\"server_id\"] !== undefined) {\n",
       "      const bk_div = document.createElement(\"div\");\n",
       "      bk_div.innerHTML = output.data[HTML_MIME_TYPE];\n",
       "      const script_attrs = bk_div.children[0].attributes;\n",
       "      for (let i = 0; i < script_attrs.length; i++) {\n",
       "        toinsert[toinsert.length - 1].firstChild.setAttribute(script_attrs[i].name, script_attrs[i].value);\n",
       "        toinsert[toinsert.length - 1].firstChild.textContent = bk_div.children[0].textContent\n",
       "      }\n",
       "      // store reference to server id on output_area\n",
       "      output_area._bokeh_server_id = output.metadata[EXEC_MIME_TYPE][\"server_id\"];\n",
       "    }\n",
       "  }\n",
       "\n",
       "  function register_renderer(events, OutputArea) {\n",
       "\n",
       "    function append_mime(data, metadata, element) {\n",
       "      // create a DOM node to render to\n",
       "      const toinsert = this.create_output_subarea(\n",
       "        metadata,\n",
       "        CLASS_NAME,\n",
       "        EXEC_MIME_TYPE\n",
       "      );\n",
       "      this.keyboard_manager.register_events(toinsert);\n",
       "      // Render to node\n",
       "      const props = {data: data, metadata: metadata[EXEC_MIME_TYPE]};\n",
       "      render(props, toinsert[toinsert.length - 1]);\n",
       "      element.append(toinsert);\n",
       "      return toinsert\n",
       "    }\n",
       "\n",
       "    /* Handle when an output is cleared or removed */\n",
       "    events.on('clear_output.CodeCell', handleClearOutput);\n",
       "    events.on('delete.Cell', handleClearOutput);\n",
       "\n",
       "    /* Handle when a new output is added */\n",
       "    events.on('output_added.OutputArea', handleAddOutput);\n",
       "\n",
       "    /**\n",
       "     * Register the mime type and append_mime function with output_area\n",
       "     */\n",
       "    OutputArea.prototype.register_mime_type(EXEC_MIME_TYPE, append_mime, {\n",
       "      /* Is output safe? */\n",
       "      safe: true,\n",
       "      /* Index of renderer in `output_area.display_order` */\n",
       "      index: 0\n",
       "    });\n",
       "  }\n",
       "\n",
       "  // register the mime type if in Jupyter Notebook environment and previously unregistered\n",
       "  if (root.Jupyter !== undefined) {\n",
       "    const events = require('base/js/events');\n",
       "    const OutputArea = require('notebook/js/outputarea').OutputArea;\n",
       "\n",
       "    if (OutputArea.prototype.mime_types().indexOf(EXEC_MIME_TYPE) == -1) {\n",
       "      register_renderer(events, OutputArea);\n",
       "    }\n",
       "  }\n",
       "  if (typeof (root._bokeh_timeout) === \"undefined\" || force === true) {\n",
       "    root._bokeh_timeout = Date.now() + 5000;\n",
       "    root._bokeh_failed_load = false;\n",
       "  }\n",
       "\n",
       "  const NB_LOAD_WARNING = {'data': {'text/html':\n",
       "     \"<div style='background-color: #fdd'>\\n\"+\n",
       "     \"<p>\\n\"+\n",
       "     \"BokehJS does not appear to have successfully loaded. If loading BokehJS from CDN, this \\n\"+\n",
       "     \"may be due to a slow or bad network connection. Possible fixes:\\n\"+\n",
       "     \"</p>\\n\"+\n",
       "     \"<ul>\\n\"+\n",
       "     \"<li>re-rerun `output_notebook()` to attempt to load from CDN again, or</li>\\n\"+\n",
       "     \"<li>use INLINE resources instead, as so:</li>\\n\"+\n",
       "     \"</ul>\\n\"+\n",
       "     \"<code>\\n\"+\n",
       "     \"from bokeh.resources import INLINE\\n\"+\n",
       "     \"output_notebook(resources=INLINE)\\n\"+\n",
       "     \"</code>\\n\"+\n",
       "     \"</div>\"}};\n",
       "\n",
       "  function display_loaded(error = null) {\n",
       "    const el = document.getElementById(\"bd0e1496-32b5-46be-96d2-6863fc299255\");\n",
       "    if (el != null) {\n",
       "      const html = (() => {\n",
       "        if (typeof root.Bokeh === \"undefined\") {\n",
       "          if (error == null) {\n",
       "            return \"BokehJS is loading ...\";\n",
       "          } else {\n",
       "            return \"BokehJS failed to load.\";\n",
       "          }\n",
       "        } else {\n",
       "          const prefix = `BokehJS ${root.Bokeh.version}`;\n",
       "          if (error == null) {\n",
       "            return `${prefix} successfully loaded.`;\n",
       "          } else {\n",
       "            return `${prefix} <b>encountered errors</b> while loading and may not function as expected.`;\n",
       "          }\n",
       "        }\n",
       "      })();\n",
       "      el.innerHTML = html;\n",
       "\n",
       "      if (error != null) {\n",
       "        const wrapper = document.createElement(\"div\");\n",
       "        wrapper.style.overflow = \"auto\";\n",
       "        wrapper.style.height = \"5em\";\n",
       "        wrapper.style.resize = \"vertical\";\n",
       "        const content = document.createElement(\"div\");\n",
       "        content.style.fontFamily = \"monospace\";\n",
       "        content.style.whiteSpace = \"pre-wrap\";\n",
       "        content.style.backgroundColor = \"rgb(255, 221, 221)\";\n",
       "        content.textContent = error.stack ?? error.toString();\n",
       "        wrapper.append(content);\n",
       "        el.append(wrapper);\n",
       "      }\n",
       "    } else if (Date.now() < root._bokeh_timeout) {\n",
       "      setTimeout(() => display_loaded(error), 100);\n",
       "    }\n",
       "  }\n",
       "\n",
       "  function run_callbacks() {\n",
       "    try {\n",
       "      root._bokeh_onload_callbacks.forEach(function(callback) {\n",
       "        if (callback != null)\n",
       "          callback();\n",
       "      });\n",
       "    } finally {\n",
       "      delete root._bokeh_onload_callbacks\n",
       "    }\n",
       "    console.debug(\"Bokeh: all callbacks have finished\");\n",
       "  }\n",
       "\n",
       "  function load_libs(css_urls, js_urls, callback) {\n",
       "    if (css_urls == null) css_urls = [];\n",
       "    if (js_urls == null) js_urls = [];\n",
       "\n",
       "    root._bokeh_onload_callbacks.push(callback);\n",
       "    if (root._bokeh_is_loading > 0) {\n",
       "      console.debug(\"Bokeh: BokehJS is being loaded, scheduling callback at\", now());\n",
       "      return null;\n",
       "    }\n",
       "    if (js_urls == null || js_urls.length === 0) {\n",
       "      run_callbacks();\n",
       "      return null;\n",
       "    }\n",
       "    console.debug(\"Bokeh: BokehJS not loaded, scheduling load and callback at\", now());\n",
       "    root._bokeh_is_loading = css_urls.length + js_urls.length;\n",
       "\n",
       "    function on_load() {\n",
       "      root._bokeh_is_loading--;\n",
       "      if (root._bokeh_is_loading === 0) {\n",
       "        console.debug(\"Bokeh: all BokehJS libraries/stylesheets loaded\");\n",
       "        run_callbacks()\n",
       "      }\n",
       "    }\n",
       "\n",
       "    function on_error(url) {\n",
       "      console.error(\"failed to load \" + url);\n",
       "    }\n",
       "\n",
       "    for (let i = 0; i < css_urls.length; i++) {\n",
       "      const url = css_urls[i];\n",
       "      const element = document.createElement(\"link\");\n",
       "      element.onload = on_load;\n",
       "      element.onerror = on_error.bind(null, url);\n",
       "      element.rel = \"stylesheet\";\n",
       "      element.type = \"text/css\";\n",
       "      element.href = url;\n",
       "      console.debug(\"Bokeh: injecting link tag for BokehJS stylesheet: \", url);\n",
       "      document.body.appendChild(element);\n",
       "    }\n",
       "\n",
       "    for (let i = 0; i < js_urls.length; i++) {\n",
       "      const url = js_urls[i];\n",
       "      const element = document.createElement('script');\n",
       "      element.onload = on_load;\n",
       "      element.onerror = on_error.bind(null, url);\n",
       "      element.async = false;\n",
       "      element.src = url;\n",
       "      console.debug(\"Bokeh: injecting script tag for BokehJS library: \", url);\n",
       "      document.head.appendChild(element);\n",
       "    }\n",
       "  };\n",
       "\n",
       "  function inject_raw_css(css) {\n",
       "    const element = document.createElement(\"style\");\n",
       "    element.appendChild(document.createTextNode(css));\n",
       "    document.body.appendChild(element);\n",
       "  }\n",
       "\n",
       "  const js_urls = [\"https://cdn.bokeh.org/bokeh/release/bokeh-3.6.2.min.js\", \"https://cdn.bokeh.org/bokeh/release/bokeh-gl-3.6.2.min.js\", \"https://cdn.bokeh.org/bokeh/release/bokeh-widgets-3.6.2.min.js\", \"https://cdn.bokeh.org/bokeh/release/bokeh-tables-3.6.2.min.js\", \"https://cdn.bokeh.org/bokeh/release/bokeh-mathjax-3.6.2.min.js\"];\n",
       "  const css_urls = [];\n",
       "\n",
       "  const inline_js = [    function(Bokeh) {\n",
       "      Bokeh.set_log_level(\"info\");\n",
       "    },\n",
       "function(Bokeh) {\n",
       "    }\n",
       "  ];\n",
       "\n",
       "  function run_inline_js() {\n",
       "    if (root.Bokeh !== undefined || force === true) {\n",
       "      try {\n",
       "            for (let i = 0; i < inline_js.length; i++) {\n",
       "      inline_js[i].call(root, root.Bokeh);\n",
       "    }\n",
       "\n",
       "      } catch (error) {display_loaded(error);throw error;\n",
       "      }if (force === true) {\n",
       "        display_loaded();\n",
       "      }} else if (Date.now() < root._bokeh_timeout) {\n",
       "      setTimeout(run_inline_js, 100);\n",
       "    } else if (!root._bokeh_failed_load) {\n",
       "      console.log(\"Bokeh: BokehJS failed to load within specified timeout.\");\n",
       "      root._bokeh_failed_load = true;\n",
       "    } else if (force !== true) {\n",
       "      const cell = $(document.getElementById(\"bd0e1496-32b5-46be-96d2-6863fc299255\")).parents('.cell').data().cell;\n",
       "      cell.output_area.append_execute_result(NB_LOAD_WARNING)\n",
       "    }\n",
       "  }\n",
       "\n",
       "  if (root._bokeh_is_loading === 0) {\n",
       "    console.debug(\"Bokeh: BokehJS loaded, going straight to plotting\");\n",
       "    run_inline_js();\n",
       "  } else {\n",
       "    load_libs(css_urls, js_urls, function() {\n",
       "      console.debug(\"Bokeh: BokehJS plotting callback run at\", now());\n",
       "      run_inline_js();\n",
       "    });\n",
       "  }\n",
       "}(window));"
      ],
      "application/vnd.bokehjs_load.v0+json": "'use strict';\n(function(root) {\n  function now() {\n    return new Date();\n  }\n\n  const force = true;\n\n  if (typeof root._bokeh_onload_callbacks === \"undefined\" || force === true) {\n    root._bokeh_onload_callbacks = [];\n    root._bokeh_is_loading = undefined;\n  }\n\n\n  if (typeof (root._bokeh_timeout) === \"undefined\" || force === true) {\n    root._bokeh_timeout = Date.now() + 5000;\n    root._bokeh_failed_load = false;\n  }\n\n  const NB_LOAD_WARNING = {'data': {'text/html':\n     \"<div style='background-color: #fdd'>\\n\"+\n     \"<p>\\n\"+\n     \"BokehJS does not appear to have successfully loaded. If loading BokehJS from CDN, this \\n\"+\n     \"may be due to a slow or bad network connection. Possible fixes:\\n\"+\n     \"</p>\\n\"+\n     \"<ul>\\n\"+\n     \"<li>re-rerun `output_notebook()` to attempt to load from CDN again, or</li>\\n\"+\n     \"<li>use INLINE resources instead, as so:</li>\\n\"+\n     \"</ul>\\n\"+\n     \"<code>\\n\"+\n     \"from bokeh.resources import INLINE\\n\"+\n     \"output_notebook(resources=INLINE)\\n\"+\n     \"</code>\\n\"+\n     \"</div>\"}};\n\n  function display_loaded(error = null) {\n    const el = document.getElementById(\"bd0e1496-32b5-46be-96d2-6863fc299255\");\n    if (el != null) {\n      const html = (() => {\n        if (typeof root.Bokeh === \"undefined\") {\n          if (error == null) {\n            return \"BokehJS is loading ...\";\n          } else {\n            return \"BokehJS failed to load.\";\n          }\n        } else {\n          const prefix = `BokehJS ${root.Bokeh.version}`;\n          if (error == null) {\n            return `${prefix} successfully loaded.`;\n          } else {\n            return `${prefix} <b>encountered errors</b> while loading and may not function as expected.`;\n          }\n        }\n      })();\n      el.innerHTML = html;\n\n      if (error != null) {\n        const wrapper = document.createElement(\"div\");\n        wrapper.style.overflow = \"auto\";\n        wrapper.style.height = \"5em\";\n        wrapper.style.resize = \"vertical\";\n        const content = document.createElement(\"div\");\n        content.style.fontFamily = \"monospace\";\n        content.style.whiteSpace = \"pre-wrap\";\n        content.style.backgroundColor = \"rgb(255, 221, 221)\";\n        content.textContent = error.stack ?? error.toString();\n        wrapper.append(content);\n        el.append(wrapper);\n      }\n    } else if (Date.now() < root._bokeh_timeout) {\n      setTimeout(() => display_loaded(error), 100);\n    }\n  }\n\n  function run_callbacks() {\n    try {\n      root._bokeh_onload_callbacks.forEach(function(callback) {\n        if (callback != null)\n          callback();\n      });\n    } finally {\n      delete root._bokeh_onload_callbacks\n    }\n    console.debug(\"Bokeh: all callbacks have finished\");\n  }\n\n  function load_libs(css_urls, js_urls, callback) {\n    if (css_urls == null) css_urls = [];\n    if (js_urls == null) js_urls = [];\n\n    root._bokeh_onload_callbacks.push(callback);\n    if (root._bokeh_is_loading > 0) {\n      console.debug(\"Bokeh: BokehJS is being loaded, scheduling callback at\", now());\n      return null;\n    }\n    if (js_urls == null || js_urls.length === 0) {\n      run_callbacks();\n      return null;\n    }\n    console.debug(\"Bokeh: BokehJS not loaded, scheduling load and callback at\", now());\n    root._bokeh_is_loading = css_urls.length + js_urls.length;\n\n    function on_load() {\n      root._bokeh_is_loading--;\n      if (root._bokeh_is_loading === 0) {\n        console.debug(\"Bokeh: all BokehJS libraries/stylesheets loaded\");\n        run_callbacks()\n      }\n    }\n\n    function on_error(url) {\n      console.error(\"failed to load \" + url);\n    }\n\n    for (let i = 0; i < css_urls.length; i++) {\n      const url = css_urls[i];\n      const element = document.createElement(\"link\");\n      element.onload = on_load;\n      element.onerror = on_error.bind(null, url);\n      element.rel = \"stylesheet\";\n      element.type = \"text/css\";\n      element.href = url;\n      console.debug(\"Bokeh: injecting link tag for BokehJS stylesheet: \", url);\n      document.body.appendChild(element);\n    }\n\n    for (let i = 0; i < js_urls.length; i++) {\n      const url = js_urls[i];\n      const element = document.createElement('script');\n      element.onload = on_load;\n      element.onerror = on_error.bind(null, url);\n      element.async = false;\n      element.src = url;\n      console.debug(\"Bokeh: injecting script tag for BokehJS library: \", url);\n      document.head.appendChild(element);\n    }\n  };\n\n  function inject_raw_css(css) {\n    const element = document.createElement(\"style\");\n    element.appendChild(document.createTextNode(css));\n    document.body.appendChild(element);\n  }\n\n  const js_urls = [\"https://cdn.bokeh.org/bokeh/release/bokeh-3.6.2.min.js\", \"https://cdn.bokeh.org/bokeh/release/bokeh-gl-3.6.2.min.js\", \"https://cdn.bokeh.org/bokeh/release/bokeh-widgets-3.6.2.min.js\", \"https://cdn.bokeh.org/bokeh/release/bokeh-tables-3.6.2.min.js\", \"https://cdn.bokeh.org/bokeh/release/bokeh-mathjax-3.6.2.min.js\"];\n  const css_urls = [];\n\n  const inline_js = [    function(Bokeh) {\n      Bokeh.set_log_level(\"info\");\n    },\nfunction(Bokeh) {\n    }\n  ];\n\n  function run_inline_js() {\n    if (root.Bokeh !== undefined || force === true) {\n      try {\n            for (let i = 0; i < inline_js.length; i++) {\n      inline_js[i].call(root, root.Bokeh);\n    }\n\n      } catch (error) {display_loaded(error);throw error;\n      }if (force === true) {\n        display_loaded();\n      }} else if (Date.now() < root._bokeh_timeout) {\n      setTimeout(run_inline_js, 100);\n    } else if (!root._bokeh_failed_load) {\n      console.log(\"Bokeh: BokehJS failed to load within specified timeout.\");\n      root._bokeh_failed_load = true;\n    } else if (force !== true) {\n      const cell = $(document.getElementById(\"bd0e1496-32b5-46be-96d2-6863fc299255\")).parents('.cell').data().cell;\n      cell.output_area.append_execute_result(NB_LOAD_WARNING)\n    }\n  }\n\n  if (root._bokeh_is_loading === 0) {\n    console.debug(\"Bokeh: BokehJS loaded, going straight to plotting\");\n    run_inline_js();\n  } else {\n    load_libs(css_urls, js_urls, function() {\n      console.debug(\"Bokeh: BokehJS plotting callback run at\", now());\n      run_inline_js();\n    });\n  }\n}(window));"
     },
     "metadata": {},
     "output_type": "display_data"
    },
    {
     "data": {
      "text/html": [
       "\n",
       "  <div id=\"b089af4e-e8ec-4edf-98d6-02b332617ec7\" data-root-id=\"p1216\" style=\"display: contents;\"></div>\n"
      ]
     },
     "metadata": {},
     "output_type": "display_data"
    },
    {
     "data": {
      "application/javascript": [
       "(function(root) {\n",
       "  function embed_document(root) {\n",
       "  const docs_json = {\"98787374-9457-4354-913e-85da35078299\":{\"version\":\"3.6.2\",\"title\":\"Bokeh Application\",\"roots\":[{\"type\":\"object\",\"name\":\"Figure\",\"id\":\"p1216\",\"attributes\":{\"width\":1000,\"x_range\":{\"type\":\"object\",\"name\":\"DataRange1d\",\"id\":\"p1217\"},\"y_range\":{\"type\":\"object\",\"name\":\"DataRange1d\",\"id\":\"p1218\"},\"x_scale\":{\"type\":\"object\",\"name\":\"LinearScale\",\"id\":\"p1226\"},\"y_scale\":{\"type\":\"object\",\"name\":\"LinearScale\",\"id\":\"p1227\"},\"title\":{\"type\":\"object\",\"name\":\"Title\",\"id\":\"p1219\",\"attributes\":{\"text\":\"Evoluci\\u00f3n de la Popularidad por G\\u00e9nero y A\\u00f1o\"}},\"renderers\":[{\"type\":\"object\",\"name\":\"GlyphRenderer\",\"id\":\"p1256\",\"attributes\":{\"data_source\":{\"type\":\"object\",\"name\":\"ColumnDataSource\",\"id\":\"p1201\",\"attributes\":{\"selected\":{\"type\":\"object\",\"name\":\"Selection\",\"id\":\"p1202\",\"attributes\":{\"indices\":[],\"line_indices\":[]}},\"selection_policy\":{\"type\":\"object\",\"name\":\"UnionRenderers\",\"id\":\"p1203\"},\"data\":{\"type\":\"map\",\"entries\":[[\"year\",{\"type\":\"ndarray\",\"array\":{\"type\":\"bytes\",\"data\":\"bwcAAHAHAAB0BwAAeAcAAHoHAAB7BwAAfAcAAH0HAAB/BwAAgAcAAIEHAACCBwAAgwcAAIQHAACFBwAAhgcAAIcHAACIBwAAiQcAAIoHAACLBwAAjAcAAI0HAACOBwAAjwcAAJAHAACRBwAAkgcAAJMHAACUBwAAlQcAAJYHAACXBwAAmAcAAJkHAACaBwAAmwcAAJwHAACdBwAAngcAAJ8HAACgBwAAoQcAAKIHAACjBwAApAcAAKUHAACmBwAApwcAAKgHAACpBwAAqgcAAKsHAACsBwAArQcAAK4HAACvBwAAsAcAALEHAACyBwAAswcAALQHAAC1BwAAtgcAALcHAAC4BwAAuQcAALoHAAC7BwAAvAcAAL0HAAC+BwAAvwcAAMAHAADBBwAAwgcAAMMHAADEBwAAxQcAAMYHAADHBwAAyAcAAMkHAADKBwAAywcAAMwHAADNBwAAzgcAAM8HAADQBwAA0QcAANIHAADTBwAA1AcAANUHAADWBwAA1wcAANgHAADZBwAA2gcAANsHAADcBwAA3QcAAN4HAADfBwAA4AcAAOEHAADiBwAA4wcAAOQHAADlBwAA5gcAAOcHAADoBwAA6QcAAOoHAAA=\"},\"shape\":[116],\"dtype\":\"int32\",\"order\":\"little\"}],[\"popularity\",{\"type\":\"ndarray\",\"array\":{\"type\":\"bytes\",\"data\":\"6SYxCKycEUAzMzMzMzPjP5E0peLsw+M/MzMzMzMz4z9eukkMAivzPwwCK4cW2eQ/dJMYBFYO7z9JUyrOPnzmPxsv3SQGgeo/YZ6ofyOU7T8zMzMzMzPjP2/LWh0TPOQ/MzMzMzMz4z8zMzMzMzPjP19zIWlKxeU/peLsw2fY5T8JHswT9W/oP10JoNcdTuc/MzMzMzMz4z/zRP0boYzuP/1iyS+W/Oo/PQrXo3A99D9yaJHtfD/7P2zn+6nx0vY/8KfGSzeJ7z8hsHJoke3yPyUGgZVDi/I/mZmZmZmZ6T+oNc07TtHxP+F6FK5H4eg/C0lTKs4+9j+kcD0K16P8P3sUrkfhevA/MzMzMzMz4z+wcmiR7Xz9P6rx0k1iEOQ/ku18PzVe5D+28/3UeOnuP6jGSzeJQfM/lBgEVg4t7j90kxgEVg7rP1FGb8taHfc/VcJiNj137D8zMzMzMzPjP7ArQO41F+4/LUMc6+I27j+pEhaz6bnvPxvQr0QsP+c/AAAAAACA6z/Plupsqc7qP/vwGXYFyO8/+cWSXyz58T8sZRniWBf1P9/KHNXzePI/ObTIdr6f8D/o2az6XK3yPx5dkvCq9PE/CVozlX/y8T+0yHa+nxr3P6rx0k1iEPU/yS+W/GLJ/T9B9+4D7Rf6P1g8+76Xy/g/EFd/Ito/+T8micz4LvP2Px4Wak3zzv0/DAIrhxbZ9z+W2MwSs/L/Py8DCkSxUfY/jFH2S5jy/D/n+6nx0v3yPwaVV0120vs/KqoLp0Qn9z/l8h/Sb1/3P0ceY/mTlfo/i6M+0oO9/D+Udjf1yaD3PyWsI2arn/I/zMzMzMxM+T9Y0GOP6J/9P5vkR/yKNfY/ou9qilar+z+NHZEwjg7/P6Lt8abrO/8/PvADP/AD+z/WKyYcHr/8PxqWqa1m/Pg//8XIGOrY9z8ZbDC1HZb3PyDSb18HDvc/m41UXYP99j/0rbFFgcHzP1TjpZvEIPo/dLMCNeb0+z88T2V3jx77Px2mLrc/iPk/C8NPypU++D/BGcvJsxbzP4RQ+hVXGfU/6GYU4uV+9j9js3fbnJ78P62zlwdIRvU/Z+u5DxSa9T+ceK2iNUf9Pzk665TJrfo/n4ugj+lz+D8sJOLnExD4P/YSOOJhD/Y/KqMyKqMy+T/Uz9Cp/xv9P55XP3l0p/4/2QwlZ+r79T8yehzltoMAQDASu6gQGek/eXwZUCCK6T9MN4lBYOXyPw==\"},\"shape\":[116],\"dtype\":\"float64\",\"order\":\"little\"}]]}}},\"view\":{\"type\":\"object\",\"name\":\"CDSView\",\"id\":\"p1257\",\"attributes\":{\"filter\":{\"type\":\"object\",\"name\":\"AllIndices\",\"id\":\"p1258\"}}},\"glyph\":{\"type\":\"object\",\"name\":\"Line\",\"id\":\"p1253\",\"attributes\":{\"x\":{\"type\":\"field\",\"field\":\"year\"},\"y\":{\"type\":\"field\",\"field\":\"popularity\"},\"line_color\":\"blue\",\"line_width\":2}},\"nonselection_glyph\":{\"type\":\"object\",\"name\":\"Line\",\"id\":\"p1254\",\"attributes\":{\"x\":{\"type\":\"field\",\"field\":\"year\"},\"y\":{\"type\":\"field\",\"field\":\"popularity\"},\"line_color\":\"blue\",\"line_alpha\":0.1,\"line_width\":2}},\"muted_glyph\":{\"type\":\"object\",\"name\":\"Line\",\"id\":\"p1255\",\"attributes\":{\"x\":{\"type\":\"field\",\"field\":\"year\"},\"y\":{\"type\":\"field\",\"field\":\"popularity\"},\"line_color\":\"blue\",\"line_alpha\":0.2,\"line_width\":2}}}},{\"type\":\"object\",\"name\":\"GlyphRenderer\",\"id\":\"p1267\",\"attributes\":{\"data_source\":{\"type\":\"object\",\"name\":\"ColumnDataSource\",\"id\":\"p1204\",\"attributes\":{\"selected\":{\"type\":\"object\",\"name\":\"Selection\",\"id\":\"p1205\",\"attributes\":{\"indices\":[],\"line_indices\":[]}},\"selection_policy\":{\"type\":\"object\",\"name\":\"UnionRenderers\",\"id\":\"p1206\"},\"data\":{\"type\":\"map\",\"entries\":[[\"year\",{\"type\":\"ndarray\",\"array\":{\"type\":\"bytes\",\"data\":\"bAcAAG0HAABuBwAAbwcAAHAHAABxBwAAcgcAAHMHAAB0BwAAdQcAAHYHAAB3BwAAeAcAAHkHAAB6BwAAewcAAHwHAAB9BwAAfgcAAH8HAACABwAAgQcAAIIHAACDBwAAhAcAAIUHAACGBwAAhwcAAIgHAACJBwAAigcAAIsHAACMBwAAjQcAAI4HAACPBwAAkAcAAJEHAACSBwAAkwcAAJQHAACVBwAAlgcAAJcHAACYBwAAmQcAAJoHAACbBwAAnAcAAJ0HAACeBwAAnwcAAKAHAAChBwAAogcAAKMHAACkBwAApQcAAKYHAACnBwAAqAcAAKkHAACqBwAAqwcAAKwHAACtBwAArgcAAK8HAACwBwAAsQcAALIHAACzBwAAtAcAALUHAAC2BwAAtwcAALgHAAC5BwAAugcAALsHAAC8BwAAvQcAAL4HAAC/BwAAwAcAAMEHAADCBwAAwwcAAMQHAADFBwAAxgcAAMcHAADIBwAAyQcAAMoHAADLBwAAzAcAAM0HAADOBwAAzwcAANAHAADRBwAA0gcAANMHAADUBwAA1QcAANYHAADXBwAA2AcAANkHAADaBwAA2wcAANwHAADdBwAA3gcAAN8HAADgBwAA4QcAAOIHAADjBwAA5AcAAOUHAADmBwAA5wcAAOgHAADpBwAA6gcAAOsHAADtBwAA\"},\"shape\":[129],\"dtype\":\"int32\",\"order\":\"little\"}],[\"popularity\",{\"type\":\"ndarray\",\"array\":{\"type\":\"bytes\",\"data\":\"ezhsTG2m6j+kt2WtjgnuP8h71cqEX+Y/VdO2ichJ5z+4HoXrUXjmPxOLC36FreQ/qMZLN4lB5j/JK3RbiQ/oP3iKIhqfreQ/KLhYUYNp7D9iS0oNtWfkP609u//HY+Q/RAVKyfCb5T9UEwqbZvHmP+8Tb+uPr+4/LWViv+LX7T9gmobeSdrtP4KufrIPAO0/S1mGONZF7j+JOh83ggDuP1uONtG6y+s/Wk6DJPDI7j/BT9/Db0HvPy9OSfsaFuw/OxSvQ/E66j9uIdAF8UvrPwuGDKGygO0/A2b9Pq507D9RU34FHPXrP03cQXmXM/A/c9UJj0lu7j+VDxJeRBLvP/ssWEDAD/E/OcJK01vk7j+kmAATMdnvP5PhFH+hq+8/PvPTvu7l7j8eNdGq8FLvP74+sbjgV/A/PpmaircU8T/ft9Dt3DHyPwD3G2l59PA/xRnziZmn8T9s7IXR4qnvP1380miEIPA/vf4ZPHti8T/KnfHROKn1PwBNcwbQNPM/bhGCv8mg8D8Uxx8Xm/7yP8qXc3sgqvI/d+CTdU2r8j/KHl06XGf1P/HkSLK/y/M/lrYhOie/8z/vYw4+IGHyP62m4Iey6/E/vJ6Dh/J49D/W4vAXTJPzP7BhWYU7rPU/jbRNpi1e9D9Zu3Yi/nb2PxAs2LYig/M/gROhMcD69T9h8JgpCHf2PyCin/xsX/U/Groizo8D9D8Q1RlE+CX1P95SQtN7Hvg/EoE90dkv9T9+eIlJhuXyPzN4ja6MO/U/KyKJ0UZg/z+YVy3nh3v4P8fGxsbGxvg/+Jc14xRH/T96QFGWS4z7P5MZ62m9GwFAWAUM2+z0/T9In+da4JT7P0ZBuPSIGQBAkExFdWiy+j/LYZjxuFMAQBJmhAQGGf0/dWi3ITL8+T8GLlxZaJ/5PwQgtNY5bvo/hQTr/ptb+j8DZlDpJG33Pz6YJbHJVvc/OlWbluRd9D/aQ3pn5RX7P9EUi38vtPY/449qMdzJ9j+5YbBsv3b8P6AsZ4xJLPs/51A+8AoEAEDxOxtKfIL4P+9nzpnnh/g/h35OjFgC+z8bGw7PMuD7PyuHFtnOt/w/5ezGxwBr9j/ag1Usodv4P1y3LM32YPo/GJOA9CuZ+T9+F0jrt5v7P+O2IMfnMPo/2aTQynce+T+QBP2Gh7T8P7/DsWxRiPk/KU63eGHS+z8g/Yr+E4r8P6eeOa3srvw/8XlCWabu+z9gd1nqFKf4P2fw+A5Uyfg/j8L1KFx19z9OliD6jz73P5HTcH2v+/g/JRKiJDCg9j/c4DZO8onyP3SCWPYALPc/xHIMdeGwA0B/g54WBsXrP4wwpNUPJ+o/AAAAAAAA8D8AAAAAAAAAAAAAAAAAAAAA\"},\"shape\":[129],\"dtype\":\"float64\",\"order\":\"little\"}]]}}},\"view\":{\"type\":\"object\",\"name\":\"CDSView\",\"id\":\"p1268\",\"attributes\":{\"filter\":{\"type\":\"object\",\"name\":\"AllIndices\",\"id\":\"p1269\"}}},\"glyph\":{\"type\":\"object\",\"name\":\"Line\",\"id\":\"p1264\",\"attributes\":{\"x\":{\"type\":\"field\",\"field\":\"year\"},\"y\":{\"type\":\"field\",\"field\":\"popularity\"},\"line_color\":\"green\",\"line_width\":2}},\"nonselection_glyph\":{\"type\":\"object\",\"name\":\"Line\",\"id\":\"p1265\",\"attributes\":{\"x\":{\"type\":\"field\",\"field\":\"year\"},\"y\":{\"type\":\"field\",\"field\":\"popularity\"},\"line_color\":\"green\",\"line_alpha\":0.1,\"line_width\":2}},\"muted_glyph\":{\"type\":\"object\",\"name\":\"Line\",\"id\":\"p1266\",\"attributes\":{\"x\":{\"type\":\"field\",\"field\":\"year\"},\"y\":{\"type\":\"field\",\"field\":\"popularity\"},\"line_color\":\"green\",\"line_alpha\":0.2,\"line_width\":2}}}},{\"type\":\"object\",\"name\":\"GlyphRenderer\",\"id\":\"p1277\",\"attributes\":{\"data_source\":{\"type\":\"object\",\"name\":\"ColumnDataSource\",\"id\":\"p1207\",\"attributes\":{\"selected\":{\"type\":\"object\",\"name\":\"Selection\",\"id\":\"p1208\",\"attributes\":{\"indices\":[],\"line_indices\":[]}},\"selection_policy\":{\"type\":\"object\",\"name\":\"UnionRenderers\",\"id\":\"p1209\"},\"data\":{\"type\":\"map\",\"entries\":[[\"year\",{\"type\":\"ndarray\",\"array\":{\"type\":\"bytes\",\"data\":\"bAcAAHIHAABzBwAAdAcAAHUHAAB2BwAAdwcAAHgHAAB5BwAAegcAAHsHAAB8BwAAfQcAAH4HAAB/BwAAgAcAAIEHAACCBwAAgwcAAIQHAACFBwAAhgcAAIcHAACIBwAAiQcAAIoHAACLBwAAjAcAAI0HAACOBwAAjwcAAJAHAACRBwAAkgcAAJMHAACUBwAAlQcAAJYHAACXBwAAmAcAAJkHAACaBwAAmwcAAJwHAACdBwAAngcAAJ8HAACgBwAAoQcAAKIHAACjBwAApAcAAKUHAACmBwAApwcAAKgHAACpBwAAqgcAAKsHAACsBwAArQcAAK4HAACvBwAAsAcAALEHAACyBwAAswcAALQHAAC1BwAAtgcAALcHAAC4BwAAuQcAALoHAAC7BwAAvAcAAL0HAAC+BwAAvwcAAMAHAADBBwAAwgcAAMMHAADEBwAAxQcAAMYHAADHBwAAyAcAAMkHAADKBwAAywcAAMwHAADNBwAAzgcAAM8HAADQBwAA0QcAANIHAADTBwAA1AcAANUHAADWBwAA1wcAANgHAADZBwAA2gcAANsHAADcBwAA3QcAAN4HAADfBwAA4AcAAOEHAADiBwAA4wcAAOQHAADlBwAA5gcAAOcHAADoBwAA6QcAAOoHAADrBwAA7QcAAA==\"},\"shape\":[124],\"dtype\":\"int32\",\"order\":\"little\"}],[\"popularity\",{\"type\":\"ndarray\",\"array\":{\"type\":\"bytes\",\"data\":\"Rrbz/dR49z+iRbbz/dTkPwAAAAAAAAAABci95kLS3D990LNZ9bnePxTULB+r0OM/MzMzMzMz4z/whclUwajkP/9GKKO3Zd0/1XjpJjEI5D/gNJznXBPkPzMzMzMzM+M/SHRtM8Yl5j+J+jdCGb3nP+J6FK5H4do/eAskKH6M7z+PwvUoXI/hPx1aZDvfz+Q/DAIrhxZZ5T+MJb9Y8ovjPzMzMzMzM+M/MzMzMzMz4z/b+X5qvHTjP0w3iUFgZfA/qboG+3Il2D/MzMzMzMzcPwuQe82FpA1ALbKd76cGCEBBYOXQItvwP7es1THBg/U/ne+nxks3EUArvuIrvuLrP5KOT19bHOA/ukkMAiuH3j/DaL8pzyXwP7ivA+eMKOU/MzMzMzMz0z/m0CLb+X78P7LgADfM0hJANjy9UpYhD0A9Uf9GKKMBQPHekp4mdPk/lPYGX5hM4T9UnH34DLvuP6JFtvP91Og/xGfYFSD36j/gm1cTz4ryP+XyH9JvX98//RuhjN6W6z839k5BzfLtP9cS8kHPZvg/ZfS2rNUx6j9RevFx5Ov8P1K4HoXrUQNARIts5/s5AEBWotlipIQFQMWSXyz5hfY/ZRwQDuNb/T9gYvfpdy4NQNM3MX0T0wNAGoAvm5FM+z8DryzwyoIHQOdC0pSKM/s/uNZbR5lRAUAbyBLokuf0PwyFBMB5JAJATHW2VGdLAEBIRuwQBScFQDDz8u2E5w9AM9LJvDZmBEBwTwD3BHD2PwHU1u66AQFA2jILxdI5DECITaUh5/4CQNN7nmI+VANA8BEE8fXrDkDcP/cwp4IRQLUDWiVBJAtA5pschIvEA0AKsoEhSmACQJAMw4VY0AhAXN0SVgidAEA5b277ZJcAQK2ki2Em2gRAJjEIrBza/z+cOYbW4Bz8P/zrhIwblfM/oe1SGKzy+z+p1C/kltz3P8NWktKLz/Q/M67IKeOK9D/ywQXLut74P1Iaa0SmEPA/nDfePG/B9j+vDyzJPgn1P7U7DYzfffc/xWIqD82+8j8O7LVZWUL1Py8ICVfSjf0/eYxv0scV9D9eJ0zefGj7P3o2qz5Xm/U/T2jvtPF6+D9XwWmniqbwP3z7Is6zQfc//gn8T8Ia8T/KtoWCuhn0P3mqccT/6PQ/W5SuRel68z+OpZQxEen0PwCaavNjqvI/+8CS7JPg7z8IeWyopBXvP2167sgJsfA/TmIQWDm08D/L+bOcP8vzPzJ0BOekCfM/Lky3J7du/T/+Zj6pYy8HQJO0ahxll+o/MTbobkC/5j/y0k1iEFjpP1pkO99PjfM/MzMzMzMz4z8=\"},\"shape\":[124],\"dtype\":\"float64\",\"order\":\"little\"}]]}}},\"view\":{\"type\":\"object\",\"name\":\"CDSView\",\"id\":\"p1278\",\"attributes\":{\"filter\":{\"type\":\"object\",\"name\":\"AllIndices\",\"id\":\"p1279\"}}},\"glyph\":{\"type\":\"object\",\"name\":\"Line\",\"id\":\"p1274\",\"attributes\":{\"x\":{\"type\":\"field\",\"field\":\"year\"},\"y\":{\"type\":\"field\",\"field\":\"popularity\"},\"line_color\":\"red\",\"line_width\":2}},\"nonselection_glyph\":{\"type\":\"object\",\"name\":\"Line\",\"id\":\"p1275\",\"attributes\":{\"x\":{\"type\":\"field\",\"field\":\"year\"},\"y\":{\"type\":\"field\",\"field\":\"popularity\"},\"line_color\":\"red\",\"line_alpha\":0.1,\"line_width\":2}},\"muted_glyph\":{\"type\":\"object\",\"name\":\"Line\",\"id\":\"p1276\",\"attributes\":{\"x\":{\"type\":\"field\",\"field\":\"year\"},\"y\":{\"type\":\"field\",\"field\":\"popularity\"},\"line_color\":\"red\",\"line_alpha\":0.2,\"line_width\":2}}}},{\"type\":\"object\",\"name\":\"GlyphRenderer\",\"id\":\"p1287\",\"attributes\":{\"data_source\":{\"type\":\"object\",\"name\":\"ColumnDataSource\",\"id\":\"p1210\",\"attributes\":{\"selected\":{\"type\":\"object\",\"name\":\"Selection\",\"id\":\"p1211\",\"attributes\":{\"indices\":[],\"line_indices\":[]}},\"selection_policy\":{\"type\":\"object\",\"name\":\"UnionRenderers\",\"id\":\"p1212\"},\"data\":{\"type\":\"map\",\"entries\":[[\"year\",{\"type\":\"ndarray\",\"array\":{\"type\":\"bytes\",\"data\":\"bgcAAG8HAABwBwAAcQcAAHMHAAB0BwAAdQcAAHcHAAB4BwAAeQcAAHoHAAB7BwAAfAcAAH0HAAB+BwAAfwcAAIAHAACBBwAAggcAAIMHAACEBwAAhQcAAIYHAACHBwAAiAcAAIkHAACKBwAAiwcAAIwHAACNBwAAjgcAAI8HAACQBwAAkQcAAJIHAACTBwAAlAcAAJUHAACWBwAAlwcAAJgHAACZBwAAmgcAAJsHAACcBwAAnQcAAJ4HAACfBwAAoAcAAKEHAACiBwAAowcAAKQHAAClBwAApgcAAKcHAACoBwAAqQcAAKoHAACrBwAArAcAAK0HAACuBwAArwcAALAHAACxBwAAsgcAALMHAAC0BwAAtQcAALYHAAC3BwAAuAcAALkHAAC6BwAAuwcAALwHAAC9BwAAvgcAAL8HAADABwAAwQcAAMIHAADDBwAAxAcAAMUHAADGBwAAxwcAAMgHAADJBwAAygcAAMsHAADMBwAAzQcAAM4HAADPBwAA0AcAANEHAADSBwAA0wcAANQHAADVBwAA1gcAANcHAADYBwAA2QcAANoHAADbBwAA3AcAAN0HAADeBwAA3wcAAOAHAADhBwAA4gcAAOMHAADkBwAA5QcAAOYHAADnBwAA6AcAAOkHAAA=\"},\"shape\":[122],\"dtype\":\"int32\",\"order\":\"little\"}],[\"popularity\",{\"type\":\"ndarray\",\"array\":{\"type\":\"bytes\",\"data\":\"Itv5fmq8+j8zMzMzMzPjP5MYBFYOLeo/WmQ730+N4z946SYxCKzsP39qvHSTGOQ/aUrF2YfP6D9Iv30dOGfsPzMzMzMzM+M/XQFyr7mQ5j+2Yn/ZPXnkP+Olm8QgsOo/tc0Yl0gt6T8IrBxaZDvnPzMNTvUCd+U/2IFzRpT25j/5xnlz2yfnPwkbnl4py+Q/FnhlgVcW6D/kXnMhaUrlPzVeukkMAu8/UO4A5Q5Q6j/WV6bBqV7qPwI1aJvOAek/2FQacu6z6z9OHbbc36vpPwlkDaP9pvA/O07RkVz+8z+amZmZmZnpP5il3tWvtek/5znXBNqz6j+xUGuad5zuP95b0tOELvQ/5AYFOx198j/QwXGDgp3uP+Y/pN++DvI/P/ADP/AD9T8SCePorFPwP/eaC0lTKvQ/PU7RkVz+7z+mm8QgsHL8P/YoXI/C9eQ/jwkezBP16z9NqTj78Bn8PxIJ4+isU+w/tMh2vp/a8z9JTxO6jB32PxbZzvdTY/U/c2iR7Xw/AkC22o8T8975P0QfGZgCv/Y/t1mmzpgd9D9nHz7DrgD6P+58PzVemvc/jYUPEL2q7D9zBIq2Gjz3P/VvhDJ6WwBAhOMGBTsd+z8JgBjTr67zP3+o6Yeafvs/uddcSJpS/j/lGnkzfYn3PwAAAAAA4ABA0QX1LXO6/j8M3EVJ5hzyP6abxCCw8vQ/JgPMWTb/9j9SJ6CJsOHyP0SLbOf7ae0/L8YG3Q3o8z8iA36SQIjzP5VDi2zn+/M/29OZLIy49z+nj3/kmVbwP09BzfKxCuk/n6BR+y8U7z+yne+nxksAQH0kRK6oSuk//Dzk8WVA8T9dukkMAivtP3/GNBlgzvI/EcrobVmr9j+f9Emf9En5Pzm0yHa+v/I/gXpS21ro/j89LNSa5h3pPwfzRP0bIfE/9yWnU7Vp9z/hehSuR2H5PwkezBP1b/Y/EYZ1Bq/RBEDiWBe30QD2P3l2kGPISP4/f2q8dJMY8D99PzVeuknwP8zHKvQjuvA/g8DKoUW28z+JiIiIiIjwPwuQe82FpOc/yeU/pN++4j/GSzeJQeAMQCUGgZVDi/o/uB6F61HY+D/TyPFN3Z/tP0kJ1HW7cek/AgWi2KgSEEDKeexU5tP0PwwCK4cW2e8/raD/PS0T6z/gQ0hbWPb6P/XNdS8Rzes/9Las1THB5z/hbaoy5bb4P3ZPHhZqTe8/lrjyIsXI6z9vwJn75VjsPzegX4lYfvg/QkjgkwD/6D8MUVQLFPzxP27btm3bdvE/rK9Mg1O96j/6fmq8dJPkPw==\"},\"shape\":[122],\"dtype\":\"float64\",\"order\":\"little\"}]]}}},\"view\":{\"type\":\"object\",\"name\":\"CDSView\",\"id\":\"p1288\",\"attributes\":{\"filter\":{\"type\":\"object\",\"name\":\"AllIndices\",\"id\":\"p1289\"}}},\"glyph\":{\"type\":\"object\",\"name\":\"Line\",\"id\":\"p1284\",\"attributes\":{\"x\":{\"type\":\"field\",\"field\":\"year\"},\"y\":{\"type\":\"field\",\"field\":\"popularity\"},\"line_color\":\"orange\",\"line_width\":2}},\"nonselection_glyph\":{\"type\":\"object\",\"name\":\"Line\",\"id\":\"p1285\",\"attributes\":{\"x\":{\"type\":\"field\",\"field\":\"year\"},\"y\":{\"type\":\"field\",\"field\":\"popularity\"},\"line_color\":\"orange\",\"line_alpha\":0.1,\"line_width\":2}},\"muted_glyph\":{\"type\":\"object\",\"name\":\"Line\",\"id\":\"p1286\",\"attributes\":{\"x\":{\"type\":\"field\",\"field\":\"year\"},\"y\":{\"type\":\"field\",\"field\":\"popularity\"},\"line_color\":\"orange\",\"line_alpha\":0.2,\"line_width\":2}}}},{\"type\":\"object\",\"name\":\"GlyphRenderer\",\"id\":\"p1297\",\"attributes\":{\"data_source\":{\"type\":\"object\",\"name\":\"ColumnDataSource\",\"id\":\"p1213\",\"attributes\":{\"selected\":{\"type\":\"object\",\"name\":\"Selection\",\"id\":\"p1214\",\"attributes\":{\"indices\":[],\"line_indices\":[]}},\"selection_policy\":{\"type\":\"object\",\"name\":\"UnionRenderers\",\"id\":\"p1215\"},\"data\":{\"type\":\"map\",\"entries\":[[\"year\",{\"type\":\"ndarray\",\"array\":{\"type\":\"bytes\",\"data\":\"bQcAAG4HAAB2BwAAfAcAAH4HAAB/BwAAgAcAAIEHAACCBwAAhAcAAIUHAACHBwAAiQcAAIoHAACLBwAAjAcAAI0HAACOBwAAjwcAAJAHAACSBwAAkwcAAJQHAACYBwAAnAcAAJ8HAACgBwAAoQcAAKIHAACjBwAApAcAAKUHAACmBwAApwcAAKgHAACpBwAAqgcAAKsHAACsBwAArQcAAK4HAACvBwAAsAcAALEHAACyBwAAswcAALQHAAC1BwAAtgcAALcHAAC4BwAAuQcAALoHAAC7BwAAvAcAAL0HAAC+BwAAvwcAAMAHAADBBwAAwgcAAMMHAADEBwAAxQcAAMYHAADHBwAAyAcAAMkHAADKBwAAywcAAMwHAADNBwAAzgcAAM8HAADQBwAA0QcAANIHAADTBwAA1AcAANUHAADWBwAA1wcAANgHAADZBwAA2gcAANsHAADcBwAA3QcAAN4HAADfBwAA4AcAAOEHAADiBwAA4wcAAOQHAADlBwAA5gcAAOcHAADoBwAA6QcAAOoHAAA=\"},\"shape\":[101],\"dtype\":\"int32\",\"order\":\"little\"}],[\"popularity\",{\"type\":\"ndarray\",\"array\":{\"type\":\"bytes\",\"data\":\"MzMzMzMz4z8zMzMzMzPjP6JFtvP91OQ/dJMYBFYO5z8zMzMzMzPjP2ZmZmZmZvY/3SQGgZVD4z+yne+nxkvnP28Sg8DKoeU/MzMzMzMz4z8zMzMzMzPjP1yPwvUoXPY/dJMYBFYO6z9aZDvfT435P6RwPQrXowNAqMZLN4lB9j8CK4cW2c76PwAAAAAAAPA/WmQ7308N+z/fT42XbhLrP28Sg8DKofA/XrpJDAIr/j9nZmZmZmb1PwAAAAAAAAAA3iQGgZVD+j/AyqFFtjMUQJngwTxR/whAkKD4MeauDUB7FK5H4ToKQNejcD0KVw1AdCFpSsXZ+j8t1JrmHacOQJpWiAqUkgFAUdobfGEyAEDJL5b8YskCQNv5fmq89BBAtDWEn4c8/j8ZwUR/J6sEQODBPFH/RgFA/r1awLOD9D8cVzaGE6v7P/WVaXCqF/w/7Xw/NV56AUA7mvURPmb9Pzj4wmSqYPA/luIh9uou7D8pOVNfAMLwP6AaL90khvU/H7y3pKcJ8T+RMI7OOmXqP1l/LI9hjPQ/+ZlbbIaS9z8+6Nms+lzxP2dmZmZmZvc/81Dncnrw9T+IiIiIiMgLQOfE3Z7jYvQ/kA96Nqs++z9Di2zn+0n6PwTFjzF3Lek/ubIxnFjN+j+uR+F6FC71P7d9sssr+vo/pi9x0baHBEAn7vYcF1MBQLqQNKXi7PM//xPCCetl9j+7Jw8LtabxPxkcJa/OMfI/mFQ+jPt1AUCsHFpkO5/4P/8a8a8R//g/kdsdPW9I+D8vVPUEnor8P+zAOSNKe/0/yFDZYepy+z/VeOkmMQjsP9uYFfS/p/Y/NOsjfMye6D/F4oJfYSsAQPjA8IaD5vM/rfpcbcX+8D/+TwgnrJfxP4xo0Of3kgBA0duyVsdE+D+HD82Hk3LzP+aemyMY9PE/B4pmsbKP7z/LWh0TPJjyP9WmJXkX4+w/Pr+X7AZ58z/E41A2aw36P/xCCaqNdPc/t7xKSgn38j+eqWY3QwDyP7sNcYbO1+s/5/up8dId6z+oEwExu/b2P27MVi3TO+k/hetRuB4FBUBmZmZmZmb2Pw==\"},\"shape\":[101],\"dtype\":\"float64\",\"order\":\"little\"}]]}}},\"view\":{\"type\":\"object\",\"name\":\"CDSView\",\"id\":\"p1298\",\"attributes\":{\"filter\":{\"type\":\"object\",\"name\":\"AllIndices\",\"id\":\"p1299\"}}},\"glyph\":{\"type\":\"object\",\"name\":\"Line\",\"id\":\"p1294\",\"attributes\":{\"x\":{\"type\":\"field\",\"field\":\"year\"},\"y\":{\"type\":\"field\",\"field\":\"popularity\"},\"line_color\":\"purple\",\"line_width\":2}},\"nonselection_glyph\":{\"type\":\"object\",\"name\":\"Line\",\"id\":\"p1295\",\"attributes\":{\"x\":{\"type\":\"field\",\"field\":\"year\"},\"y\":{\"type\":\"field\",\"field\":\"popularity\"},\"line_color\":\"purple\",\"line_alpha\":0.1,\"line_width\":2}},\"muted_glyph\":{\"type\":\"object\",\"name\":\"Line\",\"id\":\"p1296\",\"attributes\":{\"x\":{\"type\":\"field\",\"field\":\"year\"},\"y\":{\"type\":\"field\",\"field\":\"popularity\"},\"line_color\":\"purple\",\"line_alpha\":0.2,\"line_width\":2}}}}],\"toolbar\":{\"type\":\"object\",\"name\":\"Toolbar\",\"id\":\"p1225\",\"attributes\":{\"tools\":[{\"type\":\"object\",\"name\":\"PanTool\",\"id\":\"p1238\"},{\"type\":\"object\",\"name\":\"WheelZoomTool\",\"id\":\"p1239\",\"attributes\":{\"renderers\":\"auto\"}},{\"type\":\"object\",\"name\":\"BoxZoomTool\",\"id\":\"p1240\",\"attributes\":{\"overlay\":{\"type\":\"object\",\"name\":\"BoxAnnotation\",\"id\":\"p1241\",\"attributes\":{\"syncable\":false,\"line_color\":\"black\",\"line_alpha\":1.0,\"line_width\":2,\"line_dash\":[4,4],\"fill_color\":\"lightgrey\",\"fill_alpha\":0.5,\"level\":\"overlay\",\"visible\":false,\"left\":{\"type\":\"number\",\"value\":\"nan\"},\"right\":{\"type\":\"number\",\"value\":\"nan\"},\"top\":{\"type\":\"number\",\"value\":\"nan\"},\"bottom\":{\"type\":\"number\",\"value\":\"nan\"},\"left_units\":\"canvas\",\"right_units\":\"canvas\",\"top_units\":\"canvas\",\"bottom_units\":\"canvas\",\"handles\":{\"type\":\"object\",\"name\":\"BoxInteractionHandles\",\"id\":\"p1247\",\"attributes\":{\"all\":{\"type\":\"object\",\"name\":\"AreaVisuals\",\"id\":\"p1246\",\"attributes\":{\"fill_color\":\"white\",\"hover_fill_color\":\"lightgray\"}}}}}}}},{\"type\":\"object\",\"name\":\"ResetTool\",\"id\":\"p1248\"},{\"type\":\"object\",\"name\":\"SaveTool\",\"id\":\"p1249\"}]}},\"left\":[{\"type\":\"object\",\"name\":\"LinearAxis\",\"id\":\"p1233\",\"attributes\":{\"ticker\":{\"type\":\"object\",\"name\":\"BasicTicker\",\"id\":\"p1234\",\"attributes\":{\"mantissas\":[1,2,5]}},\"formatter\":{\"type\":\"object\",\"name\":\"BasicTickFormatter\",\"id\":\"p1235\"},\"axis_label\":\"Popularidad Promedio\",\"major_label_policy\":{\"type\":\"object\",\"name\":\"AllLabels\",\"id\":\"p1236\"}}}],\"below\":[{\"type\":\"object\",\"name\":\"LinearAxis\",\"id\":\"p1228\",\"attributes\":{\"ticker\":{\"type\":\"object\",\"name\":\"BasicTicker\",\"id\":\"p1229\",\"attributes\":{\"mantissas\":[1,2,5]}},\"formatter\":{\"type\":\"object\",\"name\":\"BasicTickFormatter\",\"id\":\"p1230\"},\"axis_label\":\"A\\u00f1o\",\"major_label_policy\":{\"type\":\"object\",\"name\":\"AllLabels\",\"id\":\"p1231\"}}}],\"center\":[{\"type\":\"object\",\"name\":\"Grid\",\"id\":\"p1232\",\"attributes\":{\"axis\":{\"id\":\"p1228\"},\"grid_line_color\":null}},{\"type\":\"object\",\"name\":\"Grid\",\"id\":\"p1237\",\"attributes\":{\"dimension\":1,\"axis\":{\"id\":\"p1233\"}}},{\"type\":\"object\",\"name\":\"Legend\",\"id\":\"p1259\",\"attributes\":{\"location\":\"top_left\",\"title\":\"G\\u00e9nero\",\"click_policy\":\"mute\",\"items\":[{\"type\":\"object\",\"name\":\"LegendItem\",\"id\":\"p1260\",\"attributes\":{\"label\":{\"type\":\"value\",\"value\":\"Acci\\u00f3n\"},\"renderers\":[{\"id\":\"p1256\"}]}},{\"type\":\"object\",\"name\":\"LegendItem\",\"id\":\"p1270\",\"attributes\":{\"label\":{\"type\":\"value\",\"value\":\"Comedia\"},\"renderers\":[{\"id\":\"p1267\"}]}},{\"type\":\"object\",\"name\":\"LegendItem\",\"id\":\"p1280\",\"attributes\":{\"label\":{\"type\":\"value\",\"value\":\"Terror\"},\"renderers\":[{\"id\":\"p1277\"}]}},{\"type\":\"object\",\"name\":\"LegendItem\",\"id\":\"p1290\",\"attributes\":{\"label\":{\"type\":\"value\",\"value\":\"Aventura\"},\"renderers\":[{\"id\":\"p1287\"}]}},{\"type\":\"object\",\"name\":\"LegendItem\",\"id\":\"p1300\",\"attributes\":{\"label\":{\"type\":\"value\",\"value\":\"Ciencia Ficci\\u00f3n\"},\"renderers\":[{\"id\":\"p1297\"}]}}]}}]}}]}};\n",
       "  const render_items = [{\"docid\":\"98787374-9457-4354-913e-85da35078299\",\"roots\":{\"p1216\":\"b089af4e-e8ec-4edf-98d6-02b332617ec7\"},\"root_ids\":[\"p1216\"]}];\n",
       "  void root.Bokeh.embed.embed_items_notebook(docs_json, render_items);\n",
       "  }\n",
       "  if (root.Bokeh !== undefined) {\n",
       "    embed_document(root);\n",
       "  } else {\n",
       "    let attempts = 0;\n",
       "    const timer = setInterval(function(root) {\n",
       "      if (root.Bokeh !== undefined) {\n",
       "        clearInterval(timer);\n",
       "        embed_document(root);\n",
       "      } else {\n",
       "        attempts++;\n",
       "        if (attempts > 100) {\n",
       "          clearInterval(timer);\n",
       "          console.log(\"Bokeh: ERROR: Unable to run BokehJS code because BokehJS library is missing\");\n",
       "        }\n",
       "      }\n",
       "    }, 10, root)\n",
       "  }\n",
       "})(window);"
      ],
      "application/vnd.bokehjs_exec.v0+json": ""
     },
     "metadata": {
      "application/vnd.bokehjs_exec.v0+json": {
       "id": "p1216"
      }
     },
     "output_type": "display_data"
    }
   ],
   "source": [
    "# no borrar, util para que funcione en notebook\n",
    "output_notebook()\n",
    "\n",
    "# dividir los generos y expandir\n",
    "df['genres_split'] = df['genres'].str.split('|')\n",
    "genres_exploded = df.explode('genres_split')\n",
    "\n",
    "# funcion para calcular la popularidad promedio por año\n",
    "def calculate_popularity_by_year(data, genre):\n",
    "    genre_data = data[data['genres_split'] == genre]\n",
    "    genre_data = genre_data.dropna(subset=['release_date'])  # Evitar nulos\n",
    "    genre_data.loc[:, 'release_year'] = pd.to_datetime(genre_data['release_date'], errors='coerce').dt.year\n",
    "    return genre_data.groupby('release_year')['popularity'].mean().reset_index()\n",
    "\n",
    "# calculo de la popularidad promedio por genero\n",
    "action_popularity = calculate_popularity_by_year(genres_exploded, 'Action')\n",
    "comedy_popularity = calculate_popularity_by_year(genres_exploded, 'Comedy')\n",
    "horror_popularity = calculate_popularity_by_year(genres_exploded, 'Horror')\n",
    "adventure_popularity = calculate_popularity_by_year(genres_exploded, 'Adventure')\n",
    "sci_fi_popularity = calculate_popularity_by_year(genres_exploded, 'Science Fiction')\n",
    "\n",
    "# estructura de datos para hacer el grafico\n",
    "action_source = ColumnDataSource(data={'year': action_popularity['release_year'], 'popularity': action_popularity['popularity']})\n",
    "comedy_source = ColumnDataSource(data={'year': comedy_popularity['release_year'], 'popularity': comedy_popularity['popularity']})\n",
    "horror_source = ColumnDataSource(data={'year': horror_popularity['release_year'], 'popularity': horror_popularity['popularity']})\n",
    "adventure_source = ColumnDataSource(data={'year': adventure_popularity['release_year'], 'popularity': adventure_popularity['popularity']})\n",
    "sci_fi_source = ColumnDataSource(data={'year': sci_fi_popularity['release_year'], 'popularity': sci_fi_popularity['popularity']})\n",
    "\n",
    "# grafico interactivo\n",
    "p = figure(height=600, width=1000, title=\"Evolución de la Popularidad por Género y Año\",\n",
    "           x_axis_label=\"Año\", y_axis_label=\"Popularidad Promedio\", tools=\"pan,wheel_zoom,box_zoom,reset,save\")\n",
    "\n",
    "# se añade soporte para muteado de cada leyenda\n",
    "p.line(x='year', y='popularity', source=action_source, line_width=2, color=\"blue\", legend_label=\"Acción\", muted_alpha=0.2)\n",
    "p.line(x='year', y='popularity', source=comedy_source, line_width=2, color=\"green\", legend_label=\"Comedia\", muted_alpha=0.2)\n",
    "p.line(x='year', y='popularity', source=horror_source, line_width=2, color=\"red\", legend_label=\"Terror\", muted_alpha=0.2)\n",
    "p.line(x='year', y='popularity', source=adventure_source, line_width=2, color=\"orange\", legend_label=\"Aventura\", muted_alpha=0.2)\n",
    "p.line(x='year', y='popularity', source=sci_fi_source, line_width=2, color=\"purple\", legend_label=\"Ciencia Ficción\", muted_alpha=0.2)\n",
    "\n",
    "# leyenda interactiva\n",
    "p.legend.location = \"top_left\"\n",
    "p.legend.title = \"Género\"\n",
    "p.legend.click_policy = \"mute\"  # modificador de leyendas\n",
    "p.xgrid.grid_line_color = None\n",
    "\n",
    "# Mostrar el gráfico\n",
    "show(p)"
   ]
  },
  {
   "cell_type": "markdown",
   "id": "e0f714ac-bac2-499c-9f5a-67cf4b170ea6",
   "metadata": {},
   "source": [
    "#### Hippótesis (2)"
   ]
  },
  {
   "cell_type": "code",
   "execution_count": 34,
   "id": "49e65838-6622-4e2e-86a2-df3126b4790a",
   "metadata": {},
   "outputs": [
    {
     "data": {
      "image/png": "[encoded data removed]",
      "text/plain": [
       "<Figure size 1000x800 with 1 Axes>"
      ]
     },
     "metadata": {},
     "output_type": "display_data"
    }
   ],
   "source": [
    "# dividir los generos y expandir\n",
    "df['genres_split'] = df['genres'].str.split(',')\n",
    "genres_exploded = df.explode('genres_split')\n",
    "\n",
    "# contar peliculas por genero y estado\n",
    "genre_status_count = genres_exploded.groupby(['genres_split', 'status']).size().reset_index(name='count')\n",
    "\n",
    "# grafico de barras\n",
    "plt.figure(figsize=(10, 8))\n",
    "sns.barplot(\n",
    "    data=genre_status_count,\n",
    "    x='genres_split',\n",
    "    y='count',\n",
    "    hue='status',\n",
    "    palette='viridis'\n",
    ")\n",
    "\n",
    "plt.yscale('log')\n",
    "plt.title(\"Número de Películas por Género y Estado\")\n",
    "plt.xlabel(\"Género\")\n",
    "plt.ylabel(\"Cantidad de Películas\")\n",
    "plt.xticks(rotation=90)\n",
    "plt.legend(title=\"Estado\")\n",
    "plt.tight_layout()\n",
    "plt.show()"
   ]
  },
  {
   "cell_type": "markdown",
   "id": "28dc39b3-b920-4615-af66-b4a42cd37cf5",
   "metadata": {},
   "source": [
    "#### Hipótesis (3)"
   ]
  },
  {
   "cell_type": "code",
   "execution_count": 82,
   "id": "88e8d93b-5b87-412d-b9cc-d8c823a1aaf3",
   "metadata": {},
   "outputs": [
    {
     "data": {
      "text/html": [
       "\n",
       "  <div id=\"b50df315-4f4c-44d9-a59f-b4febefc362e\" data-root-id=\"p1159\" style=\"display: contents;\"></div>\n"
      ]
     },
     "metadata": {},
     "output_type": "display_data"
    },
    {
     "data": {
      "application/javascript": [
       "(function(root) {\n",
       "  function embed_document(root) {\n",
       "  const docs_json = {\"43acc735-06c4-4ad8-acfa-4a278ed54fb4\":{\"version\":\"3.6.2\",\"title\":\"Bokeh Application\",\"roots\":[{\"type\":\"object\",\"name\":\"Figure\",\"id\":\"p1159\",\"attributes\":{\"width\":800,\"height\":800,\"x_range\":{\"type\":\"object\",\"name\":\"DataRange1d\",\"id\":\"p1160\"},\"y_range\":{\"type\":\"object\",\"name\":\"DataRange1d\",\"id\":\"p1161\"},\"x_scale\":{\"type\":\"object\",\"name\":\"LinearScale\",\"id\":\"p1169\"},\"y_scale\":{\"type\":\"object\",\"name\":\"LinearScale\",\"id\":\"p1170\"},\"title\":{\"type\":\"object\",\"name\":\"Title\",\"id\":\"p1162\",\"attributes\":{\"text\":\"Porcentaje de Pel\\u00edculas 'Released' por D\\u00e9cada\"}},\"renderers\":[{\"type\":\"object\",\"name\":\"GlyphRenderer\",\"id\":\"p1191\",\"attributes\":{\"data_source\":{\"type\":\"object\",\"name\":\"ColumnDataSource\",\"id\":\"p1156\",\"attributes\":{\"selected\":{\"type\":\"object\",\"name\":\"Selection\",\"id\":\"p1157\",\"attributes\":{\"indices\":[],\"line_indices\":[]}},\"selection_policy\":{\"type\":\"object\",\"name\":\"UnionRenderers\",\"id\":\"p1158\"},\"data\":{\"type\":\"map\",\"entries\":[[\"index\",{\"type\":\"ndarray\",\"array\":{\"type\":\"bytes\",\"data\":\"AAAAAAEAAAACAAAAAwAAAAQAAAAFAAAABgAAAAcAAAAIAAAACQAAAAoAAAALAAAADAAAAA0AAAAOAAAADwAAAA==\"},\"shape\":[16],\"dtype\":\"int32\",\"order\":\"little\"}],[\"decade\",{\"type\":\"ndarray\",\"array\":{\"type\":\"bytes\",\"data\":\"AAAAAACwnUAAAAAAANidQAAAAAAAAJ5AAAAAAAAonkAAAAAAAFCeQAAAAAAAeJ5AAAAAAACgnkAAAAAAAMieQAAAAAAA8J5AAAAAAAAYn0AAAAAAAECfQAAAAAAAaJ9AAAAAAACQn0AAAAAAALifQAAAAAAABKBAAAAAAAAYoEA=\"},\"shape\":[16],\"dtype\":\"float64\",\"order\":\"little\"}],[\"count\",{\"type\":\"ndarray\",\"array\":{\"type\":\"bytes\",\"data\":\"fAwAACksAABhLwAA5EUAAL0+AABEVwAA1YMAAH21AAAI2QAAGQcBAEgBAgCG9AMAW7oCAAIAAAACAAAAAQAAAA==\"},\"shape\":[16],\"dtype\":\"int32\",\"order\":\"little\"}],[\"angle\",{\"type\":\"ndarray\",\"array\":{\"type\":\"bytes\",\"data\":\"pTz9Dr0JmD/zxHenzUG1P7WvwzByzrY/nPF75kTSwD+qE0PbKTO+P4fi7MPRAMU/QQmHfcC6zz/uCixkJdfVPyZyQx4gHto/wLQ0ck2p3z9s8VYkYeLuP+dGEd9Adv4/rBvrK5gC9T/qJ8rCpM7uPuonysKkzu4+6ifKwqTO3j4=\"},\"shape\":[16],\"dtype\":\"float64\",\"order\":\"little\"}],[\"percentage\",{\"type\":\"ndarray\",\"array\":{\"type\":\"bytes\",\"data\":\"rxvOpDzp1z9ldC/XDyX1P81mbhScr/Y/J4Kuboa7AEDVC5eeVAr+P1oa4dBr5ARAol1HytmPD0AhkBmnnbkVQJQwKN7P+hlAdMXOVn5+H0Bryzz/nrguQMsoNuwQTT5AnEl50i/mNEDefPdM/aQuP95890z9pC4/3nz3TP2kHj8=\"},\"shape\":[16],\"dtype\":\"float64\",\"order\":\"little\"}],[\"color\",{\"type\":\"ndarray\",\"array\":[\"#1f77b4\",\"#aec7e8\",\"#ff7f0e\",\"#ffbb78\",\"#2ca02c\",\"#98df8a\",\"#d62728\",\"#ff9896\",\"#9467bd\",\"#c5b0d5\",\"#8c564b\",\"#c49c94\",\"#e377c2\",\"#f7b6d2\",\"#7f7f7f\",\"#c7c7c7\"],\"shape\":[16],\"dtype\":\"object\",\"order\":\"little\"}]]}}},\"view\":{\"type\":\"object\",\"name\":\"CDSView\",\"id\":\"p1192\",\"attributes\":{\"filter\":{\"type\":\"object\",\"name\":\"AllIndices\",\"id\":\"p1193\"}}},\"glyph\":{\"type\":\"object\",\"name\":\"Wedge\",\"id\":\"p1188\",\"attributes\":{\"x\":{\"type\":\"value\",\"value\":0},\"y\":{\"type\":\"value\",\"value\":0},\"radius\":{\"type\":\"value\",\"value\":0.7},\"start_angle\":{\"type\":\"expr\",\"expr\":{\"type\":\"object\",\"name\":\"CumSum\",\"id\":\"p1183\",\"attributes\":{\"field\":\"angle\",\"include_zero\":true}}},\"end_angle\":{\"type\":\"expr\",\"expr\":{\"type\":\"object\",\"name\":\"CumSum\",\"id\":\"p1184\",\"attributes\":{\"field\":\"angle\"}}},\"line_color\":{\"type\":\"value\",\"value\":\"white\"},\"fill_color\":{\"type\":\"field\",\"field\":\"color\"}}},\"nonselection_glyph\":{\"type\":\"object\",\"name\":\"Wedge\",\"id\":\"p1189\",\"attributes\":{\"x\":{\"type\":\"value\",\"value\":0},\"y\":{\"type\":\"value\",\"value\":0},\"radius\":{\"type\":\"value\",\"value\":0.7},\"start_angle\":{\"type\":\"expr\",\"expr\":{\"id\":\"p1183\"}},\"end_angle\":{\"type\":\"expr\",\"expr\":{\"id\":\"p1184\"}},\"line_color\":{\"type\":\"value\",\"value\":\"white\"},\"line_alpha\":{\"type\":\"value\",\"value\":0.1},\"fill_color\":{\"type\":\"field\",\"field\":\"color\"},\"fill_alpha\":{\"type\":\"value\",\"value\":0.1},\"hatch_alpha\":{\"type\":\"value\",\"value\":0.1}}},\"muted_glyph\":{\"type\":\"object\",\"name\":\"Wedge\",\"id\":\"p1190\",\"attributes\":{\"x\":{\"type\":\"value\",\"value\":0},\"y\":{\"type\":\"value\",\"value\":0},\"radius\":{\"type\":\"value\",\"value\":0.7},\"start_angle\":{\"type\":\"expr\",\"expr\":{\"id\":\"p1183\"}},\"end_angle\":{\"type\":\"expr\",\"expr\":{\"id\":\"p1184\"}},\"line_color\":{\"type\":\"value\",\"value\":\"white\"},\"line_alpha\":{\"type\":\"value\",\"value\":0.2},\"fill_color\":{\"type\":\"field\",\"field\":\"color\"},\"fill_alpha\":{\"type\":\"value\",\"value\":0.2},\"hatch_alpha\":{\"type\":\"value\",\"value\":0.2}}}}}],\"toolbar\":{\"type\":\"object\",\"name\":\"Toolbar\",\"id\":\"p1168\",\"attributes\":{\"tools\":[{\"type\":\"object\",\"name\":\"TapTool\",\"id\":\"p1181\",\"attributes\":{\"renderers\":\"auto\"}},{\"type\":\"object\",\"name\":\"HoverTool\",\"id\":\"p1182\",\"attributes\":{\"renderers\":\"auto\",\"tooltips\":\"@decade: @count pel\\u00edculas (@percentage{0.1f}%)\"}}]}},\"toolbar_location\":null,\"left\":[{\"type\":\"object\",\"name\":\"LinearAxis\",\"id\":\"p1176\",\"attributes\":{\"visible\":false,\"ticker\":{\"type\":\"object\",\"name\":\"BasicTicker\",\"id\":\"p1177\",\"attributes\":{\"mantissas\":[1,2,5]}},\"formatter\":{\"type\":\"object\",\"name\":\"BasicTickFormatter\",\"id\":\"p1178\"},\"major_label_policy\":{\"type\":\"object\",\"name\":\"AllLabels\",\"id\":\"p1179\"}}}],\"below\":[{\"type\":\"object\",\"name\":\"LinearAxis\",\"id\":\"p1171\",\"attributes\":{\"visible\":false,\"ticker\":{\"type\":\"object\",\"name\":\"BasicTicker\",\"id\":\"p1172\",\"attributes\":{\"mantissas\":[1,2,5]}},\"formatter\":{\"type\":\"object\",\"name\":\"BasicTickFormatter\",\"id\":\"p1173\"},\"major_label_policy\":{\"type\":\"object\",\"name\":\"AllLabels\",\"id\":\"p1174\"}}}],\"center\":[{\"type\":\"object\",\"name\":\"Grid\",\"id\":\"p1175\",\"attributes\":{\"axis\":{\"id\":\"p1171\"},\"grid_line_color\":null}},{\"type\":\"object\",\"name\":\"Grid\",\"id\":\"p1180\",\"attributes\":{\"dimension\":1,\"axis\":{\"id\":\"p1176\"},\"grid_line_color\":null}},{\"type\":\"object\",\"name\":\"Legend\",\"id\":\"p1194\",\"attributes\":{\"location\":\"top_left\",\"title\":\"D\\u00e9cada\",\"items\":[{\"type\":\"object\",\"name\":\"LegendItem\",\"id\":\"p1195\",\"attributes\":{\"label\":{\"type\":\"field\",\"field\":\"decade\"},\"renderers\":[{\"id\":\"p1191\"}]}}]}}]}}]}};\n",
       "  const render_items = [{\"docid\":\"43acc735-06c4-4ad8-acfa-4a278ed54fb4\",\"roots\":{\"p1159\":\"b50df315-4f4c-44d9-a59f-b4febefc362e\"},\"root_ids\":[\"p1159\"]}];\n",
       "  void root.Bokeh.embed.embed_items_notebook(docs_json, render_items);\n",
       "  }\n",
       "  if (root.Bokeh !== undefined) {\n",
       "    embed_document(root);\n",
       "  } else {\n",
       "    let attempts = 0;\n",
       "    const timer = setInterval(function(root) {\n",
       "      if (root.Bokeh !== undefined) {\n",
       "        clearInterval(timer);\n",
       "        embed_document(root);\n",
       "      } else {\n",
       "        attempts++;\n",
       "        if (attempts > 100) {\n",
       "          clearInterval(timer);\n",
       "          console.log(\"Bokeh: ERROR: Unable to run BokehJS code because BokehJS library is missing\");\n",
       "        }\n",
       "      }\n",
       "    }, 10, root)\n",
       "  }\n",
       "})(window);"
      ],
      "application/vnd.bokehjs_exec.v0+json": ""
     },
     "metadata": {
      "application/vnd.bokehjs_exec.v0+json": {
       "id": "p1159"
      }
     },
     "output_type": "display_data"
    }
   ],
   "source": [
    "# Asegurar que la columna release_date esté en formato datetime\n",
    "df['release_date'] = pd.to_datetime(df['release_date'], errors='coerce')\n",
    "\n",
    "# Filtrar películas con estado \"Released\"\n",
    "released_movies = df.loc[df['status'] == 'Released'].copy()\n",
    "\n",
    "# Extraer el año de lanzamiento y calcular la década\n",
    "released_movies['release_year'] = released_movies['release_date'].dt.year\n",
    "released_movies['decade'] = (released_movies['release_year'] // 10) * 10\n",
    "\n",
    "# Contar películas por década\n",
    "decade_counts = released_movies.groupby('decade').size().reset_index(name='count')\n",
    "\n",
    "# Calcular proporciones y ángulos\n",
    "decade_counts['angle'] = decade_counts['count'] / decade_counts['count'].sum() * 2 * np.pi\n",
    "decade_counts['percentage'] = decade_counts['count'] / decade_counts['count'].sum() * 100  # calculo de porcentaje\n",
    "\n",
    "# Usar una paleta con más colores (Category20 para hasta 20 décadas)\n",
    "palette = Category20[len(decade_counts)] if len(decade_counts) <= 20 else Category20[20]\n",
    "\n",
    "# Si hay más décadas que colores, ciclar los colores\n",
    "decade_counts['color'] = [palette[i % len(palette)] for i in range(len(decade_counts))]\n",
    "\n",
    "# Crear una fuente de datos para Bokeh\n",
    "source = ColumnDataSource(data=decade_counts)\n",
    "\n",
    "# grafico de torta\n",
    "p = figure(\n",
    "    height=800,\n",
    "    width=800,\n",
    "    title=\"Porcentaje de Películas 'Released' por Década\",\n",
    "    toolbar_location=None,\n",
    "    tools=\"tap,hover\",\n",
    "    tooltips=\"@decade: @count películas (@percentage{0.1f}%)\"\n",
    ")\n",
    "\n",
    "p.wedge(\n",
    "    x=0, y=0, radius=0.7,  # tamaño del grafico\n",
    "    start_angle=cumsum('angle', include_zero=True),\n",
    "    end_angle=cumsum('angle'),\n",
    "    line_color=\"white\",\n",
    "    fill_color='color',\n",
    "    source=source,\n",
    "    legend_field='decade'\n",
    ")\n",
    "\n",
    "# Configurar la leyenda\n",
    "p.legend.title = \"Década\"\n",
    "p.legend.orientation = \"vertical\"\n",
    "p.legend.location = \"top_left\"\n",
    "\n",
    "# Personalización\n",
    "p.axis.axis_label = None\n",
    "p.axis.visible = False\n",
    "p.grid.grid_line_color = None\n",
    "\n",
    "# Mostrar el gráfico\n",
    "show(p)"
   ]
  },
  {
   "cell_type": "markdown",
   "id": "a132c182-9f09-42cd-8cca-cd077624ba77",
   "metadata": {},
   "source": [
    "#### Conclusiones"
   ]
  },
  {
   "cell_type": "markdown",
   "id": "3b83661f-6ef4-4fc9-b384-08ae1a937b9c",
   "metadata": {},
   "source": [
    "##### La hipótesis (1) se cumple ya que como se observa en el gráfico la pendiente es positiva y muy empinada alrededor de 1940 para la popularidad y se mantiene a lo largo de varios años.\n",
    "##### La hipótesis (2) se cumple, el gráfico en el eje Y es logarítmico, y se puede ver que la mayoría de las peículas se encuentran en estado de lanzamiento, muy por encima de otros estados.\n",
    "##### La hipótesis (3) se cumple, se observa en el gráfico de torta que la porción más grande representa la década de 2010, siendo la década que tiene mayor cantidad de películas registradas en la historia hasta el momento."
   ]
  },
  {
   "cell_type": "code",
   "execution_count": null,
   "id": "38d8ab7e-a02b-4de4-9367-76390602a627",
   "metadata": {},
   "outputs": [],
   "source": []
  }
 ],
 "metadata": {
  "kernelspec": {
   "display_name": "Python 3 (ipykernel)",
   "language": "python",
   "name": "python3"
  },
  "language_info": {
   "codemirror_mode": {
    "name": "ipython",
    "version": 3
   },
   "file_extension": ".py",
   "mimetype": "text/x-python",
   "name": "python",
   "nbconvert_exporter": "python",
   "pygments_lexer": "ipython3",
   "version": "3.11.2"
  }
 },
 "nbformat": 4,
 "nbformat_minor": 5
}
